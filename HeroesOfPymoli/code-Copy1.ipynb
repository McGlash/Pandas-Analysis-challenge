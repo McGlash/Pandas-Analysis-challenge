{
 "cells": [
  {
   "cell_type": "markdown",
   "metadata": {},
   "source": [
    "Heroes Of Pymoli Data Analysis\n",
    "============================"
   ]
  },
  {
   "cell_type": "markdown",
   "metadata": {},
   "source": [
    "analysis"
   ]
  },
  {
   "cell_type": "code",
   "execution_count": 13,
   "metadata": {},
   "outputs": [],
   "source": [
    "#import modules\n",
    "\n",
    "import pandas as pd"
   ]
  },
  {
   "cell_type": "code",
   "execution_count": 14,
   "metadata": {},
   "outputs": [],
   "source": [
    "input_path = \"../Resources/purchase_data.csv\""
   ]
  },
  {
   "cell_type": "code",
   "execution_count": 15,
   "metadata": {},
   "outputs": [],
   "source": [
    "purchase_data = pd.read_csv(input_path, index_col=\"Purchase ID\")"
   ]
  },
  {
   "cell_type": "code",
   "execution_count": 16,
   "metadata": {},
   "outputs": [],
   "source": [
    "## setting formatting for dataframe output\n",
    "\n",
    "###header formatting\n",
    "heading_format = [\n",
    "  ('font-size', '14px'),\n",
    "  ('text-align', 'center'),\n",
    "  ('font-weight', 'bold'),\n",
    "  ('background-color', '#CFCFCF')]\n",
    "\n",
    "###body formatting\n",
    "element_format = [('font-size', '13px')]\n",
    "\n",
    "### put it together\n",
    "styles = [dict(selector=\"th\", props=heading_format),\n",
    "         dict(selector=\"td\", props=element_format)]"
   ]
  },
  {
   "cell_type": "markdown",
   "metadata": {},
   "source": [
    "---\n",
    "\n",
    "Player Count\n",
    "------------------------"
   ]
  },
  {
   "cell_type": "code",
   "execution_count": 17,
   "metadata": {},
   "outputs": [
    {
     "data": {
      "text/html": [
       "<style  type=\"text/css\" >\n",
       "    #T_db88d0c6_a6c1_11ea_a52c_84a93e4c419e th {\n",
       "          font-size: 14px;\n",
       "          text-align: center;\n",
       "          font-weight: bold;\n",
       "          background-color: #CFCFCF;\n",
       "    }    #T_db88d0c6_a6c1_11ea_a52c_84a93e4c419e td {\n",
       "          font-size: 13px;\n",
       "    }</style><table id=\"T_db88d0c6_a6c1_11ea_a52c_84a93e4c419e\" ><thead>    <tr>        <th class=\"col_heading level0 col0\" >Total Players</th>    </tr></thead><tbody>\n",
       "                <tr>\n",
       "                                <td id=\"T_db88d0c6_a6c1_11ea_a52c_84a93e4c419erow0_col0\" class=\"data row0 col0\" >576</td>\n",
       "            </tr>\n",
       "    </tbody></table>"
      ],
      "text/plain": [
       "<pandas.io.formats.style.Styler at 0x264c73569c8>"
      ]
     },
     "execution_count": 17,
     "metadata": {},
     "output_type": "execute_result"
    }
   ],
   "source": [
    "## Player Count\n",
    "\n",
    "### pull Total Number of Players\n",
    "\n",
    "no_of_players = purchase_data[\"SN\"].nunique()\n",
    "\n",
    "### insert output in dataframe for display\n",
    "\n",
    "player_df = pd.DataFrame({\"Total Players\" : [no_of_players]})\n",
    "    \n",
    "player_df.style.set_table_styles(styles).hide_index()"
   ]
  },
  {
   "cell_type": "markdown",
   "metadata": {},
   "source": [
    "---\n",
    "\n",
    "Purchasing Analysis (Total)\n",
    "------------------------"
   ]
  },
  {
   "cell_type": "code",
   "execution_count": 18,
   "metadata": {},
   "outputs": [
    {
     "data": {
      "text/html": [
       "<style  type=\"text/css\" >\n",
       "    #T_dddb5234_a6c1_11ea_829a_84a93e4c419e th {\n",
       "          font-size: 14px;\n",
       "          text-align: center;\n",
       "          font-weight: bold;\n",
       "          background-color: #CFCFCF;\n",
       "    }    #T_dddb5234_a6c1_11ea_829a_84a93e4c419e td {\n",
       "          font-size: 13px;\n",
       "    }</style><table id=\"T_dddb5234_a6c1_11ea_829a_84a93e4c419e\" ><thead>    <tr>        <th class=\"col_heading level0 col0\" >Number of Unique Items</th>        <th class=\"col_heading level0 col1\" >Average Price</th>        <th class=\"col_heading level0 col2\" >Number of Purchases</th>        <th class=\"col_heading level0 col3\" >Total Revenue</th>    </tr></thead><tbody>\n",
       "                <tr>\n",
       "                                <td id=\"T_dddb5234_a6c1_11ea_829a_84a93e4c419erow0_col0\" class=\"data row0 col0\" >179</td>\n",
       "                        <td id=\"T_dddb5234_a6c1_11ea_829a_84a93e4c419erow0_col1\" class=\"data row0 col1\" >$3.05</td>\n",
       "                        <td id=\"T_dddb5234_a6c1_11ea_829a_84a93e4c419erow0_col2\" class=\"data row0 col2\" >780</td>\n",
       "                        <td id=\"T_dddb5234_a6c1_11ea_829a_84a93e4c419erow0_col3\" class=\"data row0 col3\" >$2,379.77</td>\n",
       "            </tr>\n",
       "    </tbody></table>"
      ],
      "text/plain": [
       "<pandas.io.formats.style.Styler at 0x264c74d4288>"
      ]
     },
     "execution_count": 18,
     "metadata": {},
     "output_type": "execute_result"
    }
   ],
   "source": [
    "## Purchasing Analysis (Total)\n",
    "\n",
    "### determine number of unique items\n",
    "\n",
    "unique_items = purchase_data.groupby(\"Item Name\")\n",
    "\n",
    "no_unique_items = len(unique_items)\n",
    "\n",
    "### determine average price\n",
    "\n",
    "average_purchase_price = purchase_data[\"Price\"].mean()\n",
    "\n",
    "### determine total no of purchases\n",
    "\n",
    "total_no_purchases = sum(purchase_data[\"Price\"].value_counts())\n",
    "\n",
    "### determine total revenue\n",
    "\n",
    "total_revenue = sum(purchase_data[\"Price\"])\n",
    "\n",
    "### insert output in dataframe for display, including formatting\n",
    "\n",
    "item_df = pd.DataFrame({\n",
    "    \"Number of Unique Items\" : [no_unique_items], \"Average Price\" : [average_purchase_price], \n",
    "    \"Number of Purchases\" : [total_no_purchases], \"Total Revenue\" : [total_revenue]})\n",
    "    \n",
    "item_df.style.format({\"Average Price\": \"${:,.2f}\", \"Total Revenue\": \"${:,.2f}\"}).set_table_styles(styles).hide_index()"
   ]
  },
  {
   "cell_type": "markdown",
   "metadata": {},
   "source": [
    "---\n",
    "\n",
    "Gender Demographics\n",
    "------------------------"
   ]
  },
  {
   "cell_type": "code",
   "execution_count": 26,
   "metadata": {},
   "outputs": [
    {
     "data": {
      "text/html": [
       "<style  type=\"text/css\" >\n",
       "    #T_4da73036_a6c2_11ea_a3bf_84a93e4c419e th {\n",
       "          font-size: 14px;\n",
       "          text-align: center;\n",
       "          font-weight: bold;\n",
       "          background-color: #CFCFCF;\n",
       "    }    #T_4da73036_a6c2_11ea_a3bf_84a93e4c419e td {\n",
       "          font-size: 13px;\n",
       "    }</style><table id=\"T_4da73036_a6c2_11ea_a3bf_84a93e4c419e\" ><thead>    <tr>        <th class=\"blank level0\" ></th>        <th class=\"col_heading level0 col0\" >Total Count</th>        <th class=\"col_heading level0 col1\" >Percentage of Players</th>    </tr>    <tr>        <th class=\"index_name level0\" >Gender</th>        <th class=\"blank\" ></th>        <th class=\"blank\" ></th>    </tr></thead><tbody>\n",
       "                <tr>\n",
       "                        <th id=\"T_4da73036_a6c2_11ea_a3bf_84a93e4c419elevel0_row0\" class=\"row_heading level0 row0\" >Male</th>\n",
       "                        <td id=\"T_4da73036_a6c2_11ea_a3bf_84a93e4c419erow0_col0\" class=\"data row0 col0\" >484</td>\n",
       "                        <td id=\"T_4da73036_a6c2_11ea_a3bf_84a93e4c419erow0_col1\" class=\"data row0 col1\" >84.03%</td>\n",
       "            </tr>\n",
       "            <tr>\n",
       "                        <th id=\"T_4da73036_a6c2_11ea_a3bf_84a93e4c419elevel0_row1\" class=\"row_heading level0 row1\" >Female</th>\n",
       "                        <td id=\"T_4da73036_a6c2_11ea_a3bf_84a93e4c419erow1_col0\" class=\"data row1 col0\" >81</td>\n",
       "                        <td id=\"T_4da73036_a6c2_11ea_a3bf_84a93e4c419erow1_col1\" class=\"data row1 col1\" >14.06%</td>\n",
       "            </tr>\n",
       "            <tr>\n",
       "                        <th id=\"T_4da73036_a6c2_11ea_a3bf_84a93e4c419elevel0_row2\" class=\"row_heading level0 row2\" >Other / Non-Disclosed</th>\n",
       "                        <td id=\"T_4da73036_a6c2_11ea_a3bf_84a93e4c419erow2_col0\" class=\"data row2 col0\" >11</td>\n",
       "                        <td id=\"T_4da73036_a6c2_11ea_a3bf_84a93e4c419erow2_col1\" class=\"data row2 col1\" >1.91%</td>\n",
       "            </tr>\n",
       "    </tbody></table>"
      ],
      "text/plain": [
       "<pandas.io.formats.style.Styler at 0x264c762f408>"
      ]
     },
     "execution_count": 26,
     "metadata": {},
     "output_type": "execute_result"
    }
   ],
   "source": [
    "## Gender Demographics\n",
    "\n",
    "### create new dataframe stratified by gender\n",
    "\n",
    "gender_strat_data = purchase_data.groupby(\"Gender\")\n",
    "\n",
    "### determine counts by gender\n",
    "\n",
    "gender_counts = gender_strat_data[\"SN\"].nunique()\n",
    "\n",
    "### insert column for percentage by gender\n",
    "\n",
    "gender_percent = gender_strat_data[\"SN\"].nunique()/sum(gender_strat_data[\"SN\"].nunique())\n",
    "\n",
    "###Display Percentage and Count of Players by Gender, including formatting\n",
    "\n",
    "gender_total_df = pd.DataFrame({\"Total Count\" : gender_counts, \n",
    "                                \"Percentage of Players\" : gender_percent})\n",
    "\n",
    "gender_total_df_sorted = gender_total_df.sort_values(\"Percentage of Players\", ascending = False)\n",
    "\n",
    "gender_total_df_sorted.style.format({\"Percentage of Players\": \"{:,.2%}\"}).set_table_styles(styles)"
   ]
  },
  {
   "cell_type": "markdown",
   "metadata": {},
   "source": [
    "---\n",
    "\n",
    "Purchasing Analysis (Gender)\n",
    "------------------------"
   ]
  },
  {
   "cell_type": "code",
   "execution_count": 123,
   "metadata": {},
   "outputs": [
    {
     "data": {
      "text/html": [
       "<style  type=\"text/css\" >\n",
       "    #T_e66608f0_a5e6_11ea_8007_84a93e4c419e th {\n",
       "          font-size: 14px;\n",
       "          text-align: center;\n",
       "          font-weight: bold;\n",
       "          background-color: #CFCFCF;\n",
       "    }    #T_e66608f0_a5e6_11ea_8007_84a93e4c419e td {\n",
       "          font-size: 13px;\n",
       "    }</style><table id=\"T_e66608f0_a5e6_11ea_8007_84a93e4c419e\" ><thead>    <tr>        <th class=\"blank level0\" ></th>        <th class=\"col_heading level0 col0\" >Purchase Count</th>        <th class=\"col_heading level0 col1\" >Average Purchase Price</th>        <th class=\"col_heading level0 col2\" >Total Purchase Value</th>        <th class=\"col_heading level0 col3\" >Avg Total Purchase per Person</th>    </tr>    <tr>        <th class=\"index_name level0\" >Gender</th>        <th class=\"blank\" ></th>        <th class=\"blank\" ></th>        <th class=\"blank\" ></th>        <th class=\"blank\" ></th>    </tr></thead><tbody>\n",
       "                <tr>\n",
       "                        <th id=\"T_e66608f0_a5e6_11ea_8007_84a93e4c419elevel0_row0\" class=\"row_heading level0 row0\" >Other / Non-Disclosed</th>\n",
       "                        <td id=\"T_e66608f0_a5e6_11ea_8007_84a93e4c419erow0_col0\" class=\"data row0 col0\" >15</td>\n",
       "                        <td id=\"T_e66608f0_a5e6_11ea_8007_84a93e4c419erow0_col1\" class=\"data row0 col1\" >$3.35</td>\n",
       "                        <td id=\"T_e66608f0_a5e6_11ea_8007_84a93e4c419erow0_col2\" class=\"data row0 col2\" >$50.19</td>\n",
       "                        <td id=\"T_e66608f0_a5e6_11ea_8007_84a93e4c419erow0_col3\" class=\"data row0 col3\" >$4.56</td>\n",
       "            </tr>\n",
       "            <tr>\n",
       "                        <th id=\"T_e66608f0_a5e6_11ea_8007_84a93e4c419elevel0_row1\" class=\"row_heading level0 row1\" >Female</th>\n",
       "                        <td id=\"T_e66608f0_a5e6_11ea_8007_84a93e4c419erow1_col0\" class=\"data row1 col0\" >113</td>\n",
       "                        <td id=\"T_e66608f0_a5e6_11ea_8007_84a93e4c419erow1_col1\" class=\"data row1 col1\" >$3.20</td>\n",
       "                        <td id=\"T_e66608f0_a5e6_11ea_8007_84a93e4c419erow1_col2\" class=\"data row1 col2\" >$361.94</td>\n",
       "                        <td id=\"T_e66608f0_a5e6_11ea_8007_84a93e4c419erow1_col3\" class=\"data row1 col3\" >$4.47</td>\n",
       "            </tr>\n",
       "            <tr>\n",
       "                        <th id=\"T_e66608f0_a5e6_11ea_8007_84a93e4c419elevel0_row2\" class=\"row_heading level0 row2\" >Male</th>\n",
       "                        <td id=\"T_e66608f0_a5e6_11ea_8007_84a93e4c419erow2_col0\" class=\"data row2 col0\" >652</td>\n",
       "                        <td id=\"T_e66608f0_a5e6_11ea_8007_84a93e4c419erow2_col1\" class=\"data row2 col1\" >$3.02</td>\n",
       "                        <td id=\"T_e66608f0_a5e6_11ea_8007_84a93e4c419erow2_col2\" class=\"data row2 col2\" >$1,967.64</td>\n",
       "                        <td id=\"T_e66608f0_a5e6_11ea_8007_84a93e4c419erow2_col3\" class=\"data row2 col3\" >$4.07</td>\n",
       "            </tr>\n",
       "    </tbody></table>"
      ],
      "text/plain": [
       "<pandas.io.formats.style.Styler at 0x2a60a4cd408>"
      ]
     },
     "execution_count": 123,
     "metadata": {},
     "output_type": "execute_result"
    }
   ],
   "source": [
    "## Purchasing Analysis(Gender)\n",
    "\n",
    "### pull purchase count\n",
    "\n",
    "purchase_count_gender = gender_strat_data[\"Item Name\"].count()\n",
    "\n",
    "### pull average purchase price\n",
    "\n",
    "purchase_average_price_gender = gender_strat_data[\"Price\"].mean()\n",
    "\n",
    "### pull total purchase value\n",
    "\n",
    "total_purchase_gender = gender_strat_data[\"Price\"].sum()\n",
    "\n",
    "### pull average total purchase per person\n",
    "\n",
    "average_total_purchase_gender = total_purchase_gender/gender_strat_data[\"SN\"].nunique()\n",
    "\n",
    "### Display Gender Analysis, including formatting\n",
    "\n",
    "gender_analysis = pd.DataFrame({\"Purchase Count\" : purchase_count_gender, \n",
    "                                \"Average Purchase Price\" : purchase_average_price_gender,\n",
    "                                \"Total Purchase Value\" : total_purchase_gender,\n",
    "                                \"Avg Total Purchase per Person\" : average_total_purchase_gender})\n",
    "\n",
    "gender_analysis_sorted = gender_analysis.sort_values(\"Avg Total Purchase per Person\", ascending = False)\n",
    "\n",
    "gender_analysis_sorted.style.format({\"Average Purchase Price\" : \"${:,.2f}\", \n",
    "                              \"Total Purchase Value\" : \"${:,.2f}\", \n",
    "                              \"Avg Total Purchase per Person\" : \"${:,.2f}\"}).set_table_styles(styles)"
   ]
  },
  {
   "cell_type": "markdown",
   "metadata": {},
   "source": [
    "---\n",
    "\n",
    "Age Demographics\n",
    "------------------------"
   ]
  },
  {
   "cell_type": "code",
   "execution_count": 28,
   "metadata": {},
   "outputs": [
    {
     "data": {
      "text/html": [
       "<style  type=\"text/css\" >\n",
       "    #T_8a4383ac_a6c2_11ea_a5b8_84a93e4c419e th {\n",
       "          font-size: 14px;\n",
       "          text-align: center;\n",
       "          font-weight: bold;\n",
       "          background-color: #CFCFCF;\n",
       "    }    #T_8a4383ac_a6c2_11ea_a5b8_84a93e4c419e td {\n",
       "          font-size: 13px;\n",
       "    }</style><table id=\"T_8a4383ac_a6c2_11ea_a5b8_84a93e4c419e\" ><thead>    <tr>        <th class=\"blank level0\" ></th>        <th class=\"col_heading level0 col0\" >Total Count</th>        <th class=\"col_heading level0 col1\" >Percentage of Players</th>    </tr>    <tr>        <th class=\"index_name level0\" >Age Group</th>        <th class=\"blank\" ></th>        <th class=\"blank\" ></th>    </tr></thead><tbody>\n",
       "                <tr>\n",
       "                        <th id=\"T_8a4383ac_a6c2_11ea_a5b8_84a93e4c419elevel0_row0\" class=\"row_heading level0 row0\" ><10</th>\n",
       "                        <td id=\"T_8a4383ac_a6c2_11ea_a5b8_84a93e4c419erow0_col0\" class=\"data row0 col0\" >17</td>\n",
       "                        <td id=\"T_8a4383ac_a6c2_11ea_a5b8_84a93e4c419erow0_col1\" class=\"data row0 col1\" >2.95%</td>\n",
       "            </tr>\n",
       "            <tr>\n",
       "                        <th id=\"T_8a4383ac_a6c2_11ea_a5b8_84a93e4c419elevel0_row1\" class=\"row_heading level0 row1\" >10-14</th>\n",
       "                        <td id=\"T_8a4383ac_a6c2_11ea_a5b8_84a93e4c419erow1_col0\" class=\"data row1 col0\" >22</td>\n",
       "                        <td id=\"T_8a4383ac_a6c2_11ea_a5b8_84a93e4c419erow1_col1\" class=\"data row1 col1\" >3.82%</td>\n",
       "            </tr>\n",
       "            <tr>\n",
       "                        <th id=\"T_8a4383ac_a6c2_11ea_a5b8_84a93e4c419elevel0_row2\" class=\"row_heading level0 row2\" >15-19</th>\n",
       "                        <td id=\"T_8a4383ac_a6c2_11ea_a5b8_84a93e4c419erow2_col0\" class=\"data row2 col0\" >107</td>\n",
       "                        <td id=\"T_8a4383ac_a6c2_11ea_a5b8_84a93e4c419erow2_col1\" class=\"data row2 col1\" >18.58%</td>\n",
       "            </tr>\n",
       "            <tr>\n",
       "                        <th id=\"T_8a4383ac_a6c2_11ea_a5b8_84a93e4c419elevel0_row3\" class=\"row_heading level0 row3\" >20-24</th>\n",
       "                        <td id=\"T_8a4383ac_a6c2_11ea_a5b8_84a93e4c419erow3_col0\" class=\"data row3 col0\" >258</td>\n",
       "                        <td id=\"T_8a4383ac_a6c2_11ea_a5b8_84a93e4c419erow3_col1\" class=\"data row3 col1\" >44.79%</td>\n",
       "            </tr>\n",
       "            <tr>\n",
       "                        <th id=\"T_8a4383ac_a6c2_11ea_a5b8_84a93e4c419elevel0_row4\" class=\"row_heading level0 row4\" >25-29</th>\n",
       "                        <td id=\"T_8a4383ac_a6c2_11ea_a5b8_84a93e4c419erow4_col0\" class=\"data row4 col0\" >77</td>\n",
       "                        <td id=\"T_8a4383ac_a6c2_11ea_a5b8_84a93e4c419erow4_col1\" class=\"data row4 col1\" >13.37%</td>\n",
       "            </tr>\n",
       "            <tr>\n",
       "                        <th id=\"T_8a4383ac_a6c2_11ea_a5b8_84a93e4c419elevel0_row5\" class=\"row_heading level0 row5\" >30-34</th>\n",
       "                        <td id=\"T_8a4383ac_a6c2_11ea_a5b8_84a93e4c419erow5_col0\" class=\"data row5 col0\" >52</td>\n",
       "                        <td id=\"T_8a4383ac_a6c2_11ea_a5b8_84a93e4c419erow5_col1\" class=\"data row5 col1\" >9.03%</td>\n",
       "            </tr>\n",
       "            <tr>\n",
       "                        <th id=\"T_8a4383ac_a6c2_11ea_a5b8_84a93e4c419elevel0_row6\" class=\"row_heading level0 row6\" >35-39</th>\n",
       "                        <td id=\"T_8a4383ac_a6c2_11ea_a5b8_84a93e4c419erow6_col0\" class=\"data row6 col0\" >31</td>\n",
       "                        <td id=\"T_8a4383ac_a6c2_11ea_a5b8_84a93e4c419erow6_col1\" class=\"data row6 col1\" >5.38%</td>\n",
       "            </tr>\n",
       "            <tr>\n",
       "                        <th id=\"T_8a4383ac_a6c2_11ea_a5b8_84a93e4c419elevel0_row7\" class=\"row_heading level0 row7\" >40+</th>\n",
       "                        <td id=\"T_8a4383ac_a6c2_11ea_a5b8_84a93e4c419erow7_col0\" class=\"data row7 col0\" >12</td>\n",
       "                        <td id=\"T_8a4383ac_a6c2_11ea_a5b8_84a93e4c419erow7_col1\" class=\"data row7 col1\" >2.08%</td>\n",
       "            </tr>\n",
       "    </tbody></table>"
      ],
      "text/plain": [
       "<pandas.io.formats.style.Styler at 0x264c442dfc8>"
      ]
     },
     "execution_count": 28,
     "metadata": {},
     "output_type": "execute_result"
    }
   ],
   "source": [
    "## Age Demographics\n",
    "\n",
    "#create and implement age bins\n",
    "\n",
    "age_bins = [0, 9, 14, 19, 24, 29, 34, 39, 100]\n",
    "age_labels = [\"<10\", \"10-14\", \"15-19\", \"20-24\", \"25-29\", \"30-34\", \"35-39\", \"40+\"]\n",
    "\n",
    "age_df = purchase_data\n",
    "\n",
    "age_df[\"Age Group\"] = pd.cut(age_df[\"Age\"], age_bins, labels=age_labels, include_lowest=True)\n",
    "\n",
    "age_strat_data = age_df.groupby(\"Age Group\")\n",
    "\n",
    "### determine counts by age\n",
    "\n",
    "age_counts = age_strat_data[\"SN\"].nunique()\n",
    "\n",
    "#age_counts.columns =[\"Total Count\"]\n",
    "\n",
    "### insert column for percentage by gender\n",
    "\n",
    "age_percent = age_strat_data[\"SN\"].nunique()/sum(age_strat_data[\"SN\"].nunique())\n",
    "\n",
    "###Display Percentage and Count of Players by age, including formatting\n",
    "\n",
    "age_total_df = pd.DataFrame({\"Total Count\" : age_counts, \n",
    "                             \"Percentage of Players\" : age_percent})\n",
    "\n",
    "age_total_df.style.format ({\"Percentage of Players\" : \"{:,.2%}\"}).set_table_styles(styles)"
   ]
  },
  {
   "cell_type": "markdown",
   "metadata": {},
   "source": [
    "---\n",
    "\n",
    "Purchasing Analysis (Age)\n",
    "------------------------"
   ]
  },
  {
   "cell_type": "code",
   "execution_count": 111,
   "metadata": {},
   "outputs": [
    {
     "data": {
      "text/html": [
       "<style  type=\"text/css\" >\n",
       "    #T_5dd6a268_a5e3_11ea_bd41_84a93e4c419e th {\n",
       "          font-size: 14px;\n",
       "          text-align: center;\n",
       "          font-weight: bold;\n",
       "          background-color: #CFCFCF;\n",
       "    }    #T_5dd6a268_a5e3_11ea_bd41_84a93e4c419e td {\n",
       "          font-size: 13px;\n",
       "    }</style><table id=\"T_5dd6a268_a5e3_11ea_bd41_84a93e4c419e\" ><thead>    <tr>        <th class=\"blank level0\" ></th>        <th class=\"col_heading level0 col0\" >Purchase Count</th>        <th class=\"col_heading level0 col1\" >Average Purchase Price</th>        <th class=\"col_heading level0 col2\" >Total Purchase Value</th>        <th class=\"col_heading level0 col3\" >Avg Total Purchase per Person</th>    </tr>    <tr>        <th class=\"index_name level0\" >Age Group</th>        <th class=\"blank\" ></th>        <th class=\"blank\" ></th>        <th class=\"blank\" ></th>        <th class=\"blank\" ></th>    </tr></thead><tbody>\n",
       "                <tr>\n",
       "                        <th id=\"T_5dd6a268_a5e3_11ea_bd41_84a93e4c419elevel0_row0\" class=\"row_heading level0 row0\" ><10</th>\n",
       "                        <td id=\"T_5dd6a268_a5e3_11ea_bd41_84a93e4c419erow0_col0\" class=\"data row0 col0\" >23</td>\n",
       "                        <td id=\"T_5dd6a268_a5e3_11ea_bd41_84a93e4c419erow0_col1\" class=\"data row0 col1\" >$3.35</td>\n",
       "                        <td id=\"T_5dd6a268_a5e3_11ea_bd41_84a93e4c419erow0_col2\" class=\"data row0 col2\" >$77.13</td>\n",
       "                        <td id=\"T_5dd6a268_a5e3_11ea_bd41_84a93e4c419erow0_col3\" class=\"data row0 col3\" >$4.54</td>\n",
       "            </tr>\n",
       "            <tr>\n",
       "                        <th id=\"T_5dd6a268_a5e3_11ea_bd41_84a93e4c419elevel0_row1\" class=\"row_heading level0 row1\" >10-14</th>\n",
       "                        <td id=\"T_5dd6a268_a5e3_11ea_bd41_84a93e4c419erow1_col0\" class=\"data row1 col0\" >28</td>\n",
       "                        <td id=\"T_5dd6a268_a5e3_11ea_bd41_84a93e4c419erow1_col1\" class=\"data row1 col1\" >$2.96</td>\n",
       "                        <td id=\"T_5dd6a268_a5e3_11ea_bd41_84a93e4c419erow1_col2\" class=\"data row1 col2\" >$82.78</td>\n",
       "                        <td id=\"T_5dd6a268_a5e3_11ea_bd41_84a93e4c419erow1_col3\" class=\"data row1 col3\" >$3.76</td>\n",
       "            </tr>\n",
       "            <tr>\n",
       "                        <th id=\"T_5dd6a268_a5e3_11ea_bd41_84a93e4c419elevel0_row2\" class=\"row_heading level0 row2\" >15-19</th>\n",
       "                        <td id=\"T_5dd6a268_a5e3_11ea_bd41_84a93e4c419erow2_col0\" class=\"data row2 col0\" >136</td>\n",
       "                        <td id=\"T_5dd6a268_a5e3_11ea_bd41_84a93e4c419erow2_col1\" class=\"data row2 col1\" >$3.04</td>\n",
       "                        <td id=\"T_5dd6a268_a5e3_11ea_bd41_84a93e4c419erow2_col2\" class=\"data row2 col2\" >$412.89</td>\n",
       "                        <td id=\"T_5dd6a268_a5e3_11ea_bd41_84a93e4c419erow2_col3\" class=\"data row2 col3\" >$3.86</td>\n",
       "            </tr>\n",
       "            <tr>\n",
       "                        <th id=\"T_5dd6a268_a5e3_11ea_bd41_84a93e4c419elevel0_row3\" class=\"row_heading level0 row3\" >20-24</th>\n",
       "                        <td id=\"T_5dd6a268_a5e3_11ea_bd41_84a93e4c419erow3_col0\" class=\"data row3 col0\" >365</td>\n",
       "                        <td id=\"T_5dd6a268_a5e3_11ea_bd41_84a93e4c419erow3_col1\" class=\"data row3 col1\" >$3.05</td>\n",
       "                        <td id=\"T_5dd6a268_a5e3_11ea_bd41_84a93e4c419erow3_col2\" class=\"data row3 col2\" >$1,114.06</td>\n",
       "                        <td id=\"T_5dd6a268_a5e3_11ea_bd41_84a93e4c419erow3_col3\" class=\"data row3 col3\" >$4.32</td>\n",
       "            </tr>\n",
       "            <tr>\n",
       "                        <th id=\"T_5dd6a268_a5e3_11ea_bd41_84a93e4c419elevel0_row4\" class=\"row_heading level0 row4\" >25-29</th>\n",
       "                        <td id=\"T_5dd6a268_a5e3_11ea_bd41_84a93e4c419erow4_col0\" class=\"data row4 col0\" >101</td>\n",
       "                        <td id=\"T_5dd6a268_a5e3_11ea_bd41_84a93e4c419erow4_col1\" class=\"data row4 col1\" >$2.90</td>\n",
       "                        <td id=\"T_5dd6a268_a5e3_11ea_bd41_84a93e4c419erow4_col2\" class=\"data row4 col2\" >$293.00</td>\n",
       "                        <td id=\"T_5dd6a268_a5e3_11ea_bd41_84a93e4c419erow4_col3\" class=\"data row4 col3\" >$3.81</td>\n",
       "            </tr>\n",
       "            <tr>\n",
       "                        <th id=\"T_5dd6a268_a5e3_11ea_bd41_84a93e4c419elevel0_row5\" class=\"row_heading level0 row5\" >30-34</th>\n",
       "                        <td id=\"T_5dd6a268_a5e3_11ea_bd41_84a93e4c419erow5_col0\" class=\"data row5 col0\" >73</td>\n",
       "                        <td id=\"T_5dd6a268_a5e3_11ea_bd41_84a93e4c419erow5_col1\" class=\"data row5 col1\" >$2.93</td>\n",
       "                        <td id=\"T_5dd6a268_a5e3_11ea_bd41_84a93e4c419erow5_col2\" class=\"data row5 col2\" >$214.00</td>\n",
       "                        <td id=\"T_5dd6a268_a5e3_11ea_bd41_84a93e4c419erow5_col3\" class=\"data row5 col3\" >$4.12</td>\n",
       "            </tr>\n",
       "            <tr>\n",
       "                        <th id=\"T_5dd6a268_a5e3_11ea_bd41_84a93e4c419elevel0_row6\" class=\"row_heading level0 row6\" >35-39</th>\n",
       "                        <td id=\"T_5dd6a268_a5e3_11ea_bd41_84a93e4c419erow6_col0\" class=\"data row6 col0\" >41</td>\n",
       "                        <td id=\"T_5dd6a268_a5e3_11ea_bd41_84a93e4c419erow6_col1\" class=\"data row6 col1\" >$3.60</td>\n",
       "                        <td id=\"T_5dd6a268_a5e3_11ea_bd41_84a93e4c419erow6_col2\" class=\"data row6 col2\" >$147.67</td>\n",
       "                        <td id=\"T_5dd6a268_a5e3_11ea_bd41_84a93e4c419erow6_col3\" class=\"data row6 col3\" >$4.76</td>\n",
       "            </tr>\n",
       "            <tr>\n",
       "                        <th id=\"T_5dd6a268_a5e3_11ea_bd41_84a93e4c419elevel0_row7\" class=\"row_heading level0 row7\" >40+</th>\n",
       "                        <td id=\"T_5dd6a268_a5e3_11ea_bd41_84a93e4c419erow7_col0\" class=\"data row7 col0\" >13</td>\n",
       "                        <td id=\"T_5dd6a268_a5e3_11ea_bd41_84a93e4c419erow7_col1\" class=\"data row7 col1\" >$2.94</td>\n",
       "                        <td id=\"T_5dd6a268_a5e3_11ea_bd41_84a93e4c419erow7_col2\" class=\"data row7 col2\" >$38.24</td>\n",
       "                        <td id=\"T_5dd6a268_a5e3_11ea_bd41_84a93e4c419erow7_col3\" class=\"data row7 col3\" >$3.19</td>\n",
       "            </tr>\n",
       "    </tbody></table>"
      ],
      "text/plain": [
       "<pandas.io.formats.style.Styler at 0x2a60a4980c8>"
      ]
     },
     "execution_count": 111,
     "metadata": {},
     "output_type": "execute_result"
    }
   ],
   "source": [
    "## Purchasing Analysis(Age)\n",
    "\n",
    "### pull purchase count\n",
    "\n",
    "purchase_count_age = age_strat_data[\"Item Name\"].count()\n",
    "\n",
    "### pull average purchase price\n",
    "\n",
    "purchase_average_price_age = age_strat_data[\"Price\"].mean()\n",
    "\n",
    "### pull total purchase value\n",
    "\n",
    "total_purchase_age = age_strat_data[\"Price\"].sum()\n",
    "\n",
    "### pull average total purchase per person\n",
    "\n",
    "average_total_purchase_age = total_purchase_age/age_strat_data[\"SN\"].nunique()\n",
    "\n",
    "### Display Gender Analysis, including formatting\n",
    "\n",
    "age_analysis = pd.DataFrame({\"Purchase Count\" : purchase_count_age, \n",
    "                                \"Average Purchase Price\" : purchase_average_price_age,\n",
    "                                \"Total Purchase Value\" : total_purchase_age,\n",
    "                                \"Avg Total Purchase per Person\" : average_total_purchase_age})\n",
    "\n",
    "age_analysis.style.format({\"Average Purchase Price\" : \"${:,.2f}\", \n",
    "                              \"Total Purchase Value\" : \"${:,.2f}\", \n",
    "                              \"Avg Total Purchase per Person\" : \"${:,.2f}\"}).set_table_styles(styles)"
   ]
  },
  {
   "cell_type": "markdown",
   "metadata": {},
   "source": [
    "---\n",
    "\n",
    "Top Spenders\n",
    "------------------------"
   ]
  },
  {
   "cell_type": "code",
   "execution_count": 30,
   "metadata": {},
   "outputs": [
    {
     "data": {
      "text/html": [
       "<style  type=\"text/css\" >\n",
       "    #T_b468a84a_a6c2_11ea_88a5_84a93e4c419e th {\n",
       "          font-size: 14px;\n",
       "          text-align: center;\n",
       "          font-weight: bold;\n",
       "          background-color: #CFCFCF;\n",
       "    }    #T_b468a84a_a6c2_11ea_88a5_84a93e4c419e td {\n",
       "          font-size: 13px;\n",
       "    }</style><table id=\"T_b468a84a_a6c2_11ea_88a5_84a93e4c419e\" ><thead>    <tr>        <th class=\"blank level0\" ></th>        <th class=\"col_heading level0 col0\" >Purchase Count</th>        <th class=\"col_heading level0 col1\" >Average Purchase Price</th>        <th class=\"col_heading level0 col2\" >Total Purchase Value</th>    </tr>    <tr>        <th class=\"index_name level0\" >SN</th>        <th class=\"blank\" ></th>        <th class=\"blank\" ></th>        <th class=\"blank\" ></th>    </tr></thead><tbody>\n",
       "                <tr>\n",
       "                        <th id=\"T_b468a84a_a6c2_11ea_88a5_84a93e4c419elevel0_row0\" class=\"row_heading level0 row0\" >Lisosia93</th>\n",
       "                        <td id=\"T_b468a84a_a6c2_11ea_88a5_84a93e4c419erow0_col0\" class=\"data row0 col0\" >5</td>\n",
       "                        <td id=\"T_b468a84a_a6c2_11ea_88a5_84a93e4c419erow0_col1\" class=\"data row0 col1\" >$3.79</td>\n",
       "                        <td id=\"T_b468a84a_a6c2_11ea_88a5_84a93e4c419erow0_col2\" class=\"data row0 col2\" >$18.96</td>\n",
       "            </tr>\n",
       "            <tr>\n",
       "                        <th id=\"T_b468a84a_a6c2_11ea_88a5_84a93e4c419elevel0_row1\" class=\"row_heading level0 row1\" >Idastidru52</th>\n",
       "                        <td id=\"T_b468a84a_a6c2_11ea_88a5_84a93e4c419erow1_col0\" class=\"data row1 col0\" >4</td>\n",
       "                        <td id=\"T_b468a84a_a6c2_11ea_88a5_84a93e4c419erow1_col1\" class=\"data row1 col1\" >$3.86</td>\n",
       "                        <td id=\"T_b468a84a_a6c2_11ea_88a5_84a93e4c419erow1_col2\" class=\"data row1 col2\" >$15.45</td>\n",
       "            </tr>\n",
       "            <tr>\n",
       "                        <th id=\"T_b468a84a_a6c2_11ea_88a5_84a93e4c419elevel0_row2\" class=\"row_heading level0 row2\" >Chamjask73</th>\n",
       "                        <td id=\"T_b468a84a_a6c2_11ea_88a5_84a93e4c419erow2_col0\" class=\"data row2 col0\" >3</td>\n",
       "                        <td id=\"T_b468a84a_a6c2_11ea_88a5_84a93e4c419erow2_col1\" class=\"data row2 col1\" >$4.61</td>\n",
       "                        <td id=\"T_b468a84a_a6c2_11ea_88a5_84a93e4c419erow2_col2\" class=\"data row2 col2\" >$13.83</td>\n",
       "            </tr>\n",
       "            <tr>\n",
       "                        <th id=\"T_b468a84a_a6c2_11ea_88a5_84a93e4c419elevel0_row3\" class=\"row_heading level0 row3\" >Iral74</th>\n",
       "                        <td id=\"T_b468a84a_a6c2_11ea_88a5_84a93e4c419erow3_col0\" class=\"data row3 col0\" >4</td>\n",
       "                        <td id=\"T_b468a84a_a6c2_11ea_88a5_84a93e4c419erow3_col1\" class=\"data row3 col1\" >$3.40</td>\n",
       "                        <td id=\"T_b468a84a_a6c2_11ea_88a5_84a93e4c419erow3_col2\" class=\"data row3 col2\" >$13.62</td>\n",
       "            </tr>\n",
       "            <tr>\n",
       "                        <th id=\"T_b468a84a_a6c2_11ea_88a5_84a93e4c419elevel0_row4\" class=\"row_heading level0 row4\" >Iskadarya95</th>\n",
       "                        <td id=\"T_b468a84a_a6c2_11ea_88a5_84a93e4c419erow4_col0\" class=\"data row4 col0\" >3</td>\n",
       "                        <td id=\"T_b468a84a_a6c2_11ea_88a5_84a93e4c419erow4_col1\" class=\"data row4 col1\" >$4.37</td>\n",
       "                        <td id=\"T_b468a84a_a6c2_11ea_88a5_84a93e4c419erow4_col2\" class=\"data row4 col2\" >$13.10</td>\n",
       "            </tr>\n",
       "    </tbody></table>"
      ],
      "text/plain": [
       "<pandas.io.formats.style.Styler at 0x264c7672c08>"
      ]
     },
     "execution_count": 30,
     "metadata": {},
     "output_type": "execute_result"
    }
   ],
   "source": [
    "## Top Spenders\n",
    "\n",
    "### create new dataframe stratified by SN\n",
    "\n",
    "SN_strat_data = purchase_data.groupby(\"SN\")\n",
    "\n",
    "### pull purchase count\n",
    "\n",
    "purchase_count_SN = SN_strat_data[\"Item Name\"].count()\n",
    "\n",
    "### pull average purchase price\n",
    "\n",
    "purchase_average_price_SN = SN_strat_data[\"Price\"].mean()\n",
    "\n",
    "### pull total purchase value\n",
    "\n",
    "total_purchase_SN = SN_strat_data[\"Price\"].sum()\n",
    "\n",
    "### Create dataframe\n",
    "\n",
    "SN_analysis = pd.DataFrame({\"Purchase Count\" : purchase_count_SN, \n",
    "                            \"Average Purchase Price\" : purchase_average_price_SN,\n",
    "                            \"Total Purchase Value\" : total_purchase_SN})\n",
    "### sort       \n",
    "SN_analysis_sorted = SN_analysis.sort_values(\"Total Purchase Value\", ascending = False)\n",
    "\n",
    "### select top spenders\n",
    "\n",
    "top_spenders = SN_analysis_sorted.iloc[0:5]\n",
    "\n",
    "### format output\n",
    "\n",
    "top_spenders.style.format({\"Average Purchase Price\" : \"${:,.2f}\", \n",
    "                              \"Total Purchase Value\" : \"${:,.2f}\"}).set_table_styles(styles)\n"
   ]
  },
  {
   "cell_type": "markdown",
   "metadata": {},
   "source": [
    "---\n",
    "\n",
    "Most Popular Items\n",
    "------------------------"
   ]
  },
  {
   "cell_type": "code",
   "execution_count": 114,
   "metadata": {},
   "outputs": [
    {
     "data": {
      "text/html": [
       "<style  type=\"text/css\" >\n",
       "    #T_dfd9c154_a5e4_11ea_81b4_84a93e4c419e th {\n",
       "          font-size: 14px;\n",
       "          text-align: center;\n",
       "          font-weight: bold;\n",
       "          background-color: #CFCFCF;\n",
       "    }    #T_dfd9c154_a5e4_11ea_81b4_84a93e4c419e td {\n",
       "          font-size: 13px;\n",
       "    }</style><table id=\"T_dfd9c154_a5e4_11ea_81b4_84a93e4c419e\" ><thead>    <tr>        <th class=\"blank\" ></th>        <th class=\"blank level0\" ></th>        <th class=\"col_heading level0 col0\" >Purchase Count</th>        <th class=\"col_heading level0 col1\" >Item Price</th>        <th class=\"col_heading level0 col2\" >Total Purchase Value</th>    </tr>    <tr>        <th class=\"index_name level0\" >Item ID</th>        <th class=\"index_name level1\" >Item Name</th>        <th class=\"blank\" ></th>        <th class=\"blank\" ></th>        <th class=\"blank\" ></th>    </tr></thead><tbody>\n",
       "                <tr>\n",
       "                        <th id=\"T_dfd9c154_a5e4_11ea_81b4_84a93e4c419elevel0_row0\" class=\"row_heading level0 row0\" >92</th>\n",
       "                        <th id=\"T_dfd9c154_a5e4_11ea_81b4_84a93e4c419elevel1_row0\" class=\"row_heading level1 row0\" >Final Critic</th>\n",
       "                        <td id=\"T_dfd9c154_a5e4_11ea_81b4_84a93e4c419erow0_col0\" class=\"data row0 col0\" >13</td>\n",
       "                        <td id=\"T_dfd9c154_a5e4_11ea_81b4_84a93e4c419erow0_col1\" class=\"data row0 col1\" >$4.61</td>\n",
       "                        <td id=\"T_dfd9c154_a5e4_11ea_81b4_84a93e4c419erow0_col2\" class=\"data row0 col2\" >$59.99</td>\n",
       "            </tr>\n",
       "            <tr>\n",
       "                        <th id=\"T_dfd9c154_a5e4_11ea_81b4_84a93e4c419elevel0_row1\" class=\"row_heading level0 row1\" >178</th>\n",
       "                        <th id=\"T_dfd9c154_a5e4_11ea_81b4_84a93e4c419elevel1_row1\" class=\"row_heading level1 row1\" >Oathbreaker, Last Hope of the Breaking Storm</th>\n",
       "                        <td id=\"T_dfd9c154_a5e4_11ea_81b4_84a93e4c419erow1_col0\" class=\"data row1 col0\" >12</td>\n",
       "                        <td id=\"T_dfd9c154_a5e4_11ea_81b4_84a93e4c419erow1_col1\" class=\"data row1 col1\" >$4.23</td>\n",
       "                        <td id=\"T_dfd9c154_a5e4_11ea_81b4_84a93e4c419erow1_col2\" class=\"data row1 col2\" >$50.76</td>\n",
       "            </tr>\n",
       "            <tr>\n",
       "                        <th id=\"T_dfd9c154_a5e4_11ea_81b4_84a93e4c419elevel0_row2\" class=\"row_heading level0 row2\" >145</th>\n",
       "                        <th id=\"T_dfd9c154_a5e4_11ea_81b4_84a93e4c419elevel1_row2\" class=\"row_heading level1 row2\" >Fiery Glass Crusader</th>\n",
       "                        <td id=\"T_dfd9c154_a5e4_11ea_81b4_84a93e4c419erow2_col0\" class=\"data row2 col0\" >9</td>\n",
       "                        <td id=\"T_dfd9c154_a5e4_11ea_81b4_84a93e4c419erow2_col1\" class=\"data row2 col1\" >$4.58</td>\n",
       "                        <td id=\"T_dfd9c154_a5e4_11ea_81b4_84a93e4c419erow2_col2\" class=\"data row2 col2\" >$41.22</td>\n",
       "            </tr>\n",
       "            <tr>\n",
       "                        <th id=\"T_dfd9c154_a5e4_11ea_81b4_84a93e4c419elevel0_row3\" class=\"row_heading level0 row3\" >132</th>\n",
       "                        <th id=\"T_dfd9c154_a5e4_11ea_81b4_84a93e4c419elevel1_row3\" class=\"row_heading level1 row3\" >Persuasion</th>\n",
       "                        <td id=\"T_dfd9c154_a5e4_11ea_81b4_84a93e4c419erow3_col0\" class=\"data row3 col0\" >9</td>\n",
       "                        <td id=\"T_dfd9c154_a5e4_11ea_81b4_84a93e4c419erow3_col1\" class=\"data row3 col1\" >$3.22</td>\n",
       "                        <td id=\"T_dfd9c154_a5e4_11ea_81b4_84a93e4c419erow3_col2\" class=\"data row3 col2\" >$28.99</td>\n",
       "            </tr>\n",
       "            <tr>\n",
       "                        <th id=\"T_dfd9c154_a5e4_11ea_81b4_84a93e4c419elevel0_row4\" class=\"row_heading level0 row4\" >108</th>\n",
       "                        <th id=\"T_dfd9c154_a5e4_11ea_81b4_84a93e4c419elevel1_row4\" class=\"row_heading level1 row4\" >Extraction, Quickblade Of Trembling Hands</th>\n",
       "                        <td id=\"T_dfd9c154_a5e4_11ea_81b4_84a93e4c419erow4_col0\" class=\"data row4 col0\" >9</td>\n",
       "                        <td id=\"T_dfd9c154_a5e4_11ea_81b4_84a93e4c419erow4_col1\" class=\"data row4 col1\" >$3.53</td>\n",
       "                        <td id=\"T_dfd9c154_a5e4_11ea_81b4_84a93e4c419erow4_col2\" class=\"data row4 col2\" >$31.77</td>\n",
       "            </tr>\n",
       "            <tr>\n",
       "                        <th id=\"T_dfd9c154_a5e4_11ea_81b4_84a93e4c419elevel0_row5\" class=\"row_heading level0 row5\" >82</th>\n",
       "                        <th id=\"T_dfd9c154_a5e4_11ea_81b4_84a93e4c419elevel1_row5\" class=\"row_heading level1 row5\" >Nirvana</th>\n",
       "                        <td id=\"T_dfd9c154_a5e4_11ea_81b4_84a93e4c419erow5_col0\" class=\"data row5 col0\" >9</td>\n",
       "                        <td id=\"T_dfd9c154_a5e4_11ea_81b4_84a93e4c419erow5_col1\" class=\"data row5 col1\" >$4.90</td>\n",
       "                        <td id=\"T_dfd9c154_a5e4_11ea_81b4_84a93e4c419erow5_col2\" class=\"data row5 col2\" >$44.10</td>\n",
       "            </tr>\n",
       "            <tr>\n",
       "                        <th id=\"T_dfd9c154_a5e4_11ea_81b4_84a93e4c419elevel0_row6\" class=\"row_heading level0 row6\" >75</th>\n",
       "                        <th id=\"T_dfd9c154_a5e4_11ea_81b4_84a93e4c419elevel1_row6\" class=\"row_heading level1 row6\" >Brutality Ivory Warmace</th>\n",
       "                        <td id=\"T_dfd9c154_a5e4_11ea_81b4_84a93e4c419erow6_col0\" class=\"data row6 col0\" >8</td>\n",
       "                        <td id=\"T_dfd9c154_a5e4_11ea_81b4_84a93e4c419erow6_col1\" class=\"data row6 col1\" >$2.42</td>\n",
       "                        <td id=\"T_dfd9c154_a5e4_11ea_81b4_84a93e4c419erow6_col2\" class=\"data row6 col2\" >$19.36</td>\n",
       "            </tr>\n",
       "            <tr>\n",
       "                        <th id=\"T_dfd9c154_a5e4_11ea_81b4_84a93e4c419elevel0_row7\" class=\"row_heading level0 row7\" >103</th>\n",
       "                        <th id=\"T_dfd9c154_a5e4_11ea_81b4_84a93e4c419elevel1_row7\" class=\"row_heading level1 row7\" >Singed Scalpel</th>\n",
       "                        <td id=\"T_dfd9c154_a5e4_11ea_81b4_84a93e4c419erow7_col0\" class=\"data row7 col0\" >8</td>\n",
       "                        <td id=\"T_dfd9c154_a5e4_11ea_81b4_84a93e4c419erow7_col1\" class=\"data row7 col1\" >$4.35</td>\n",
       "                        <td id=\"T_dfd9c154_a5e4_11ea_81b4_84a93e4c419erow7_col2\" class=\"data row7 col2\" >$34.80</td>\n",
       "            </tr>\n",
       "            <tr>\n",
       "                        <th id=\"T_dfd9c154_a5e4_11ea_81b4_84a93e4c419elevel0_row8\" class=\"row_heading level0 row8\" >34</th>\n",
       "                        <th id=\"T_dfd9c154_a5e4_11ea_81b4_84a93e4c419elevel1_row8\" class=\"row_heading level1 row8\" >Retribution Axe</th>\n",
       "                        <td id=\"T_dfd9c154_a5e4_11ea_81b4_84a93e4c419erow8_col0\" class=\"data row8 col0\" >8</td>\n",
       "                        <td id=\"T_dfd9c154_a5e4_11ea_81b4_84a93e4c419erow8_col1\" class=\"data row8 col1\" >$2.22</td>\n",
       "                        <td id=\"T_dfd9c154_a5e4_11ea_81b4_84a93e4c419erow8_col2\" class=\"data row8 col2\" >$17.76</td>\n",
       "            </tr>\n",
       "            <tr>\n",
       "                        <th id=\"T_dfd9c154_a5e4_11ea_81b4_84a93e4c419elevel0_row9\" class=\"row_heading level0 row9\" >37</th>\n",
       "                        <th id=\"T_dfd9c154_a5e4_11ea_81b4_84a93e4c419elevel1_row9\" class=\"row_heading level1 row9\" >Shadow Strike, Glory of Ending Hope</th>\n",
       "                        <td id=\"T_dfd9c154_a5e4_11ea_81b4_84a93e4c419erow9_col0\" class=\"data row9 col0\" >8</td>\n",
       "                        <td id=\"T_dfd9c154_a5e4_11ea_81b4_84a93e4c419erow9_col1\" class=\"data row9 col1\" >$3.16</td>\n",
       "                        <td id=\"T_dfd9c154_a5e4_11ea_81b4_84a93e4c419erow9_col2\" class=\"data row9 col2\" >$25.28</td>\n",
       "            </tr>\n",
       "    </tbody></table>"
      ],
      "text/plain": [
       "<pandas.io.formats.style.Styler at 0x2a60a4cc948>"
      ]
     },
     "execution_count": 114,
     "metadata": {},
     "output_type": "execute_result"
    }
   ],
   "source": [
    "## Most Popular Items\n",
    "\n",
    "### create new dataframe stratified by Item ID and Name\n",
    "\n",
    "item_strat_data = purchase_data.groupby([\"Item ID\", \"Item Name\"])\n",
    "\n",
    "### pull purchase count\n",
    "\n",
    "purchase_count_item = item_strat_data[\"Item Name\"].count()\n",
    "\n",
    "#item_price = item_strat_data[\"Item Name\"]\n",
    "\n",
    "item_price = item_strat_data[\"Price\"].mean()\n",
    "\n",
    "### pull total purchase \n",
    "\n",
    "total_purchase_item = item_strat_data[\"Price\"].sum()\n",
    "\n",
    "### Create dataframe\n",
    "\n",
    "item_analysis = pd.DataFrame({\"Purchase Count\" : purchase_count_item,\n",
    "                              \"Item Price\" : item_price,\n",
    "                              \"Total Purchase Value\" : total_purchase_item})\n",
    "### sort     \n",
    "\n",
    "item_analysis_sorted = item_analysis.sort_values(\"Purchase Count\", ascending = False)\n",
    "\n",
    "### format output\n",
    "\n",
    "item_analysis_formatted = item_analysis_sorted.head(10).style.format({\"Item Price\" : \"${:,.2f}\", \n",
    "                                                                      \"Total Purchase Value\" : \"${:,.2f}\"}).set_table_styles(styles)\n",
    "\n",
    "item_analysis_formatted"
   ]
  },
  {
   "cell_type": "markdown",
   "metadata": {},
   "source": [
    "---\n",
    "\n",
    "Most Profitable Items\n",
    "------------------------"
   ]
  },
  {
   "cell_type": "code",
   "execution_count": 116,
   "metadata": {},
   "outputs": [
    {
     "data": {
      "text/html": [
       "<style  type=\"text/css\" >\n",
       "    #T_27aaa82e_a5e5_11ea_bf0f_84a93e4c419e th {\n",
       "          font-size: 14px;\n",
       "          text-align: center;\n",
       "          font-weight: bold;\n",
       "          background-color: #CFCFCF;\n",
       "    }    #T_27aaa82e_a5e5_11ea_bf0f_84a93e4c419e td {\n",
       "          font-size: 13px;\n",
       "    }</style><table id=\"T_27aaa82e_a5e5_11ea_bf0f_84a93e4c419e\" ><thead>    <tr>        <th class=\"blank\" ></th>        <th class=\"blank level0\" ></th>        <th class=\"col_heading level0 col0\" >Purchase Count</th>        <th class=\"col_heading level0 col1\" >Item Price</th>        <th class=\"col_heading level0 col2\" >Total Purchase Value</th>    </tr>    <tr>        <th class=\"index_name level0\" >Item ID</th>        <th class=\"index_name level1\" >Item Name</th>        <th class=\"blank\" ></th>        <th class=\"blank\" ></th>        <th class=\"blank\" ></th>    </tr></thead><tbody>\n",
       "                <tr>\n",
       "                        <th id=\"T_27aaa82e_a5e5_11ea_bf0f_84a93e4c419elevel0_row0\" class=\"row_heading level0 row0\" >92</th>\n",
       "                        <th id=\"T_27aaa82e_a5e5_11ea_bf0f_84a93e4c419elevel1_row0\" class=\"row_heading level1 row0\" >Final Critic</th>\n",
       "                        <td id=\"T_27aaa82e_a5e5_11ea_bf0f_84a93e4c419erow0_col0\" class=\"data row0 col0\" >13</td>\n",
       "                        <td id=\"T_27aaa82e_a5e5_11ea_bf0f_84a93e4c419erow0_col1\" class=\"data row0 col1\" >$4.61</td>\n",
       "                        <td id=\"T_27aaa82e_a5e5_11ea_bf0f_84a93e4c419erow0_col2\" class=\"data row0 col2\" >$59.99</td>\n",
       "            </tr>\n",
       "            <tr>\n",
       "                        <th id=\"T_27aaa82e_a5e5_11ea_bf0f_84a93e4c419elevel0_row1\" class=\"row_heading level0 row1\" >178</th>\n",
       "                        <th id=\"T_27aaa82e_a5e5_11ea_bf0f_84a93e4c419elevel1_row1\" class=\"row_heading level1 row1\" >Oathbreaker, Last Hope of the Breaking Storm</th>\n",
       "                        <td id=\"T_27aaa82e_a5e5_11ea_bf0f_84a93e4c419erow1_col0\" class=\"data row1 col0\" >12</td>\n",
       "                        <td id=\"T_27aaa82e_a5e5_11ea_bf0f_84a93e4c419erow1_col1\" class=\"data row1 col1\" >$4.23</td>\n",
       "                        <td id=\"T_27aaa82e_a5e5_11ea_bf0f_84a93e4c419erow1_col2\" class=\"data row1 col2\" >$50.76</td>\n",
       "            </tr>\n",
       "            <tr>\n",
       "                        <th id=\"T_27aaa82e_a5e5_11ea_bf0f_84a93e4c419elevel0_row2\" class=\"row_heading level0 row2\" >82</th>\n",
       "                        <th id=\"T_27aaa82e_a5e5_11ea_bf0f_84a93e4c419elevel1_row2\" class=\"row_heading level1 row2\" >Nirvana</th>\n",
       "                        <td id=\"T_27aaa82e_a5e5_11ea_bf0f_84a93e4c419erow2_col0\" class=\"data row2 col0\" >9</td>\n",
       "                        <td id=\"T_27aaa82e_a5e5_11ea_bf0f_84a93e4c419erow2_col1\" class=\"data row2 col1\" >$4.90</td>\n",
       "                        <td id=\"T_27aaa82e_a5e5_11ea_bf0f_84a93e4c419erow2_col2\" class=\"data row2 col2\" >$44.10</td>\n",
       "            </tr>\n",
       "            <tr>\n",
       "                        <th id=\"T_27aaa82e_a5e5_11ea_bf0f_84a93e4c419elevel0_row3\" class=\"row_heading level0 row3\" >145</th>\n",
       "                        <th id=\"T_27aaa82e_a5e5_11ea_bf0f_84a93e4c419elevel1_row3\" class=\"row_heading level1 row3\" >Fiery Glass Crusader</th>\n",
       "                        <td id=\"T_27aaa82e_a5e5_11ea_bf0f_84a93e4c419erow3_col0\" class=\"data row3 col0\" >9</td>\n",
       "                        <td id=\"T_27aaa82e_a5e5_11ea_bf0f_84a93e4c419erow3_col1\" class=\"data row3 col1\" >$4.58</td>\n",
       "                        <td id=\"T_27aaa82e_a5e5_11ea_bf0f_84a93e4c419erow3_col2\" class=\"data row3 col2\" >$41.22</td>\n",
       "            </tr>\n",
       "            <tr>\n",
       "                        <th id=\"T_27aaa82e_a5e5_11ea_bf0f_84a93e4c419elevel0_row4\" class=\"row_heading level0 row4\" >103</th>\n",
       "                        <th id=\"T_27aaa82e_a5e5_11ea_bf0f_84a93e4c419elevel1_row4\" class=\"row_heading level1 row4\" >Singed Scalpel</th>\n",
       "                        <td id=\"T_27aaa82e_a5e5_11ea_bf0f_84a93e4c419erow4_col0\" class=\"data row4 col0\" >8</td>\n",
       "                        <td id=\"T_27aaa82e_a5e5_11ea_bf0f_84a93e4c419erow4_col1\" class=\"data row4 col1\" >$4.35</td>\n",
       "                        <td id=\"T_27aaa82e_a5e5_11ea_bf0f_84a93e4c419erow4_col2\" class=\"data row4 col2\" >$34.80</td>\n",
       "            </tr>\n",
       "            <tr>\n",
       "                        <th id=\"T_27aaa82e_a5e5_11ea_bf0f_84a93e4c419elevel0_row5\" class=\"row_heading level0 row5\" >59</th>\n",
       "                        <th id=\"T_27aaa82e_a5e5_11ea_bf0f_84a93e4c419elevel1_row5\" class=\"row_heading level1 row5\" >Lightning, Etcher of the King</th>\n",
       "                        <td id=\"T_27aaa82e_a5e5_11ea_bf0f_84a93e4c419erow5_col0\" class=\"data row5 col0\" >8</td>\n",
       "                        <td id=\"T_27aaa82e_a5e5_11ea_bf0f_84a93e4c419erow5_col1\" class=\"data row5 col1\" >$4.23</td>\n",
       "                        <td id=\"T_27aaa82e_a5e5_11ea_bf0f_84a93e4c419erow5_col2\" class=\"data row5 col2\" >$33.84</td>\n",
       "            </tr>\n",
       "            <tr>\n",
       "                        <th id=\"T_27aaa82e_a5e5_11ea_bf0f_84a93e4c419elevel0_row6\" class=\"row_heading level0 row6\" >108</th>\n",
       "                        <th id=\"T_27aaa82e_a5e5_11ea_bf0f_84a93e4c419elevel1_row6\" class=\"row_heading level1 row6\" >Extraction, Quickblade Of Trembling Hands</th>\n",
       "                        <td id=\"T_27aaa82e_a5e5_11ea_bf0f_84a93e4c419erow6_col0\" class=\"data row6 col0\" >9</td>\n",
       "                        <td id=\"T_27aaa82e_a5e5_11ea_bf0f_84a93e4c419erow6_col1\" class=\"data row6 col1\" >$3.53</td>\n",
       "                        <td id=\"T_27aaa82e_a5e5_11ea_bf0f_84a93e4c419erow6_col2\" class=\"data row6 col2\" >$31.77</td>\n",
       "            </tr>\n",
       "            <tr>\n",
       "                        <th id=\"T_27aaa82e_a5e5_11ea_bf0f_84a93e4c419elevel0_row7\" class=\"row_heading level0 row7\" >78</th>\n",
       "                        <th id=\"T_27aaa82e_a5e5_11ea_bf0f_84a93e4c419elevel1_row7\" class=\"row_heading level1 row7\" >Glimmer, Ender of the Moon</th>\n",
       "                        <td id=\"T_27aaa82e_a5e5_11ea_bf0f_84a93e4c419erow7_col0\" class=\"data row7 col0\" >7</td>\n",
       "                        <td id=\"T_27aaa82e_a5e5_11ea_bf0f_84a93e4c419erow7_col1\" class=\"data row7 col1\" >$4.40</td>\n",
       "                        <td id=\"T_27aaa82e_a5e5_11ea_bf0f_84a93e4c419erow7_col2\" class=\"data row7 col2\" >$30.80</td>\n",
       "            </tr>\n",
       "            <tr>\n",
       "                        <th id=\"T_27aaa82e_a5e5_11ea_bf0f_84a93e4c419elevel0_row8\" class=\"row_heading level0 row8\" >72</th>\n",
       "                        <th id=\"T_27aaa82e_a5e5_11ea_bf0f_84a93e4c419elevel1_row8\" class=\"row_heading level1 row8\" >Winter's Bite</th>\n",
       "                        <td id=\"T_27aaa82e_a5e5_11ea_bf0f_84a93e4c419erow8_col0\" class=\"data row8 col0\" >8</td>\n",
       "                        <td id=\"T_27aaa82e_a5e5_11ea_bf0f_84a93e4c419erow8_col1\" class=\"data row8 col1\" >$3.77</td>\n",
       "                        <td id=\"T_27aaa82e_a5e5_11ea_bf0f_84a93e4c419erow8_col2\" class=\"data row8 col2\" >$30.16</td>\n",
       "            </tr>\n",
       "            <tr>\n",
       "                        <th id=\"T_27aaa82e_a5e5_11ea_bf0f_84a93e4c419elevel0_row9\" class=\"row_heading level0 row9\" >132</th>\n",
       "                        <th id=\"T_27aaa82e_a5e5_11ea_bf0f_84a93e4c419elevel1_row9\" class=\"row_heading level1 row9\" >Persuasion</th>\n",
       "                        <td id=\"T_27aaa82e_a5e5_11ea_bf0f_84a93e4c419erow9_col0\" class=\"data row9 col0\" >9</td>\n",
       "                        <td id=\"T_27aaa82e_a5e5_11ea_bf0f_84a93e4c419erow9_col1\" class=\"data row9 col1\" >$3.22</td>\n",
       "                        <td id=\"T_27aaa82e_a5e5_11ea_bf0f_84a93e4c419erow9_col2\" class=\"data row9 col2\" >$28.99</td>\n",
       "            </tr>\n",
       "    </tbody></table>"
      ],
      "text/plain": [
       "<pandas.io.formats.style.Styler at 0x2a609dae2c8>"
      ]
     },
     "execution_count": 116,
     "metadata": {},
     "output_type": "execute_result"
    }
   ],
   "source": [
    "### sort     \n",
    "\n",
    "item_analysis_sorted_by_total = item_analysis.sort_values(\"Total Purchase Value\", ascending = False)\n",
    "\n",
    "### format output\n",
    "\n",
    "item_analysis_formatted_sorted_by_total = item_analysis_sorted_by_total.head(10).style.format({\"Item Price\" : \"${:,.2f}\", \n",
    "                                                                      \"Total Purchase Value\" : \"${:,.2f}\"}).set_table_styles(styles)\n",
    "item_analysis_formatted_sorted_by_total"
   ]
  }
 ],
 "metadata": {
  "kernelspec": {
   "display_name": "Python 3",
   "language": "python",
   "name": "python3"
  },
  "language_info": {
   "codemirror_mode": {
    "name": "ipython",
    "version": 3
   },
   "file_extension": ".py",
   "mimetype": "text/x-python",
   "name": "python",
   "nbconvert_exporter": "python",
   "pygments_lexer": "ipython3",
   "version": "3.7.6"
  }
 },
 "nbformat": 4,
 "nbformat_minor": 4
}
