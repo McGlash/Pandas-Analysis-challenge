{
 "cells": [
  {
   "cell_type": "markdown",
   "metadata": {},
   "source": [
    "Heroes Of Pymoli Data Analysis\n",
    "============================"
   ]
  },
  {
   "cell_type": "markdown",
   "metadata": {},
   "source": [
    "* Females represent a target segment for increasing revenue given that they are only 14.06% of players while at the same time spend $0.40 more on average than their male counterparts. \n",
    "\n",
    "* Similarily, the age group that spends the most on average are aged 35 to 39 years old (spending $4.76 on average) yet they represent less than 1 in 10 of players (9.03%).\n",
    "\n",
    "* 'Final Critics' and 'Oathbreaker, Last Hope of the Breaking Storm' are both the most popular (13, 12 purchases, respectively) and the profitable games (total purchase value of $59.99 and 50.76 respectively)\n",
    "\n",
    "\n"
   ]
  },
  {
   "cell_type": "code",
   "execution_count": 1,
   "metadata": {},
   "outputs": [],
   "source": [
    "#import modules\n",
    "\n",
    "import pandas as pd"
   ]
  },
  {
   "cell_type": "code",
   "execution_count": 2,
   "metadata": {},
   "outputs": [],
   "source": [
    "input_path = \"../Resources/purchase_data.csv\""
   ]
  },
  {
   "cell_type": "code",
   "execution_count": 3,
   "metadata": {},
   "outputs": [],
   "source": [
    "purchase_data = pd.read_csv(input_path, index_col=\"Purchase ID\")"
   ]
  },
  {
   "cell_type": "code",
   "execution_count": 11,
   "metadata": {},
   "outputs": [],
   "source": [
    "## setting formatting for dataframe output\n",
    "\n",
    "###header formatting\n",
    "heading_format = [\n",
    "  ('font-size', '14px'),\n",
    "  ('text-align', 'Left'),\n",
    "  ('font-weight', 'bold'),\n",
    "  ('background-color', '#CFCFCF')]\n",
    "\n",
    "###body formatting\n",
    "element_format = [('font-size', '13px'), \n",
    "                  ('text-align', 'Left')]\n",
    "\n",
    "###caption formatting\n",
    "\n",
    "caption_element = [\n",
    "  ('font-size', '15px'),\n",
    "  ('text-align', 'center'),\n",
    "  ('font-weight', 'bold')]\n",
    "\n",
    "### put it together\n",
    "styles = [dict(selector=\"th\", props=heading_format),\n",
    "          dict(selector=\"td\", props=element_format),  \n",
    "          dict(selector=\"caption\", props=caption_element)]"
   ]
  },
  {
   "cell_type": "markdown",
   "metadata": {},
   "source": [
    "---\n",
    "\n",
    "Player Count\n",
    "------------------------"
   ]
  },
  {
   "cell_type": "code",
   "execution_count": 33,
   "metadata": {},
   "outputs": [
    {
     "data": {
      "text/html": [
       "<style  type=\"text/css\" >\n",
       "    #T_c95d45ba_aac1_11ea_8baa_84a93e4c419e th {\n",
       "          font-size: 14px;\n",
       "          text-align: Left;\n",
       "          font-weight: bold;\n",
       "          background-color: #CFCFCF;\n",
       "    }    #T_c95d45ba_aac1_11ea_8baa_84a93e4c419e td {\n",
       "          font-size: 13px;\n",
       "          text-align: Left;\n",
       "    }    #T_c95d45ba_aac1_11ea_8baa_84a93e4c419e caption {\n",
       "          font-size: 15px;\n",
       "          text-align: center;\n",
       "          font-weight: bold;\n",
       "    }</style><table id=\"T_c95d45ba_aac1_11ea_8baa_84a93e4c419e\" ><caption>Total Number of Players</caption><thead>    <tr>        <th class=\"col_heading level0 col0\" >Total Players</th>    </tr></thead><tbody>\n",
       "                <tr>\n",
       "                                <td id=\"T_c95d45ba_aac1_11ea_8baa_84a93e4c419erow0_col0\" class=\"data row0 col0\" >576</td>\n",
       "            </tr>\n",
       "    </tbody></table>"
      ],
      "text/plain": [
       "<pandas.io.formats.style.Styler at 0x18b3016de08>"
      ]
     },
     "execution_count": 33,
     "metadata": {},
     "output_type": "execute_result"
    }
   ],
   "source": [
    "## Player Count\n",
    "\n",
    "### insert output in dataframe\n",
    "\n",
    "player_df = pd.DataFrame({\"Total Players\" : [purchase_data[\"SN\"].nunique()]})\n",
    "    \n",
    "player_df.style.set_caption(\"Total Number of Players\"\n",
    "              ).set_table_styles(styles\n",
    "              ).hide_index()"
   ]
  },
  {
   "cell_type": "markdown",
   "metadata": {},
   "source": [
    "---\n",
    "\n",
    "Purchasing Analysis (Total)\n",
    "------------------------"
   ]
  },
  {
   "cell_type": "code",
   "execution_count": 34,
   "metadata": {},
   "outputs": [
    {
     "data": {
      "text/html": [
       "<style  type=\"text/css\" >\n",
       "    #T_29f8204a_aac2_11ea_b236_84a93e4c419e th {\n",
       "          font-size: 14px;\n",
       "          text-align: Left;\n",
       "          font-weight: bold;\n",
       "          background-color: #CFCFCF;\n",
       "    }    #T_29f8204a_aac2_11ea_b236_84a93e4c419e td {\n",
       "          font-size: 13px;\n",
       "          text-align: Left;\n",
       "    }    #T_29f8204a_aac2_11ea_b236_84a93e4c419e caption {\n",
       "          font-size: 15px;\n",
       "          text-align: center;\n",
       "          font-weight: bold;\n",
       "    }</style><table id=\"T_29f8204a_aac2_11ea_b236_84a93e4c419e\" ><caption>Purchasing Analysis of Total Players</caption><thead>    <tr>        <th class=\"col_heading level0 col0\" >Number of Unique Items</th>        <th class=\"col_heading level0 col1\" >Average Price</th>        <th class=\"col_heading level0 col2\" >Number of Purchases</th>        <th class=\"col_heading level0 col3\" >Total Revenue</th>    </tr></thead><tbody>\n",
       "                <tr>\n",
       "                                <td id=\"T_29f8204a_aac2_11ea_b236_84a93e4c419erow0_col0\" class=\"data row0 col0\" >179</td>\n",
       "                        <td id=\"T_29f8204a_aac2_11ea_b236_84a93e4c419erow0_col1\" class=\"data row0 col1\" >$3.05</td>\n",
       "                        <td id=\"T_29f8204a_aac2_11ea_b236_84a93e4c419erow0_col2\" class=\"data row0 col2\" >780</td>\n",
       "                        <td id=\"T_29f8204a_aac2_11ea_b236_84a93e4c419erow0_col3\" class=\"data row0 col3\" >$2,379.77</td>\n",
       "            </tr>\n",
       "    </tbody></table>"
      ],
      "text/plain": [
       "<pandas.io.formats.style.Styler at 0x18b30176948>"
      ]
     },
     "execution_count": 34,
     "metadata": {},
     "output_type": "execute_result"
    }
   ],
   "source": [
    "## Purchasing Analysis (Total)\n",
    "\n",
    "### insert output in dataframe\n",
    "\n",
    "item_df = pd.DataFrame({\n",
    "    \n",
    "    \"Number of Unique Items\" : [len(purchase_data.groupby(\"Item Name\"))], \n",
    "    \"Average Price\" : [purchase_data[\"Price\"].mean()], \n",
    "    \"Number of Purchases\" : [sum(purchase_data[\"Price\"].value_counts())], \n",
    "    \"Total Revenue\" : [sum(purchase_data[\"Price\"])]})\n",
    "\n",
    "### format and display output\n",
    "\n",
    "item_df.style.set_caption(\"Purchasing Analysis of Total Players\"\n",
    "            ).format({\"Average Price\": \"${:,.2f}\", \n",
    "                      \"Total Revenue\": \"${:,.2f}\"}\n",
    "            ).set_table_styles(styles\n",
    "            ).hide_index()"
   ]
  },
  {
   "cell_type": "markdown",
   "metadata": {},
   "source": [
    "---\n",
    "\n",
    "Gender Demographics\n",
    "------------------------"
   ]
  },
  {
   "cell_type": "code",
   "execution_count": 27,
   "metadata": {},
   "outputs": [
    {
     "data": {
      "text/html": [
       "<style  type=\"text/css\" >\n",
       "    #T_ac02b664_aac1_11ea_a847_84a93e4c419e th {\n",
       "          font-size: 14px;\n",
       "          text-align: Left;\n",
       "          font-weight: bold;\n",
       "          background-color: #CFCFCF;\n",
       "    }    #T_ac02b664_aac1_11ea_a847_84a93e4c419e td {\n",
       "          font-size: 13px;\n",
       "          text-align: Left;\n",
       "    }    #T_ac02b664_aac1_11ea_a847_84a93e4c419e caption {\n",
       "          font-size: 15px;\n",
       "          text-align: center;\n",
       "          font-weight: bold;\n",
       "    }</style><table id=\"T_ac02b664_aac1_11ea_a847_84a93e4c419e\" ><caption>Gender Demograpics</caption><thead>    <tr>        <th class=\"blank level0\" ></th>        <th class=\"col_heading level0 col0\" >Total Count</th>        <th class=\"col_heading level0 col1\" >Percentage of Players</th>    </tr>    <tr>        <th class=\"index_name level0\" >Gender</th>        <th class=\"blank\" ></th>        <th class=\"blank\" ></th>    </tr></thead><tbody>\n",
       "                <tr>\n",
       "                        <th id=\"T_ac02b664_aac1_11ea_a847_84a93e4c419elevel0_row0\" class=\"row_heading level0 row0\" >Male</th>\n",
       "                        <td id=\"T_ac02b664_aac1_11ea_a847_84a93e4c419erow0_col0\" class=\"data row0 col0\" >484</td>\n",
       "                        <td id=\"T_ac02b664_aac1_11ea_a847_84a93e4c419erow0_col1\" class=\"data row0 col1\" >84.03%</td>\n",
       "            </tr>\n",
       "            <tr>\n",
       "                        <th id=\"T_ac02b664_aac1_11ea_a847_84a93e4c419elevel0_row1\" class=\"row_heading level0 row1\" >Female</th>\n",
       "                        <td id=\"T_ac02b664_aac1_11ea_a847_84a93e4c419erow1_col0\" class=\"data row1 col0\" >81</td>\n",
       "                        <td id=\"T_ac02b664_aac1_11ea_a847_84a93e4c419erow1_col1\" class=\"data row1 col1\" >14.06%</td>\n",
       "            </tr>\n",
       "            <tr>\n",
       "                        <th id=\"T_ac02b664_aac1_11ea_a847_84a93e4c419elevel0_row2\" class=\"row_heading level0 row2\" >Other / Non-Disclosed</th>\n",
       "                        <td id=\"T_ac02b664_aac1_11ea_a847_84a93e4c419erow2_col0\" class=\"data row2 col0\" >11</td>\n",
       "                        <td id=\"T_ac02b664_aac1_11ea_a847_84a93e4c419erow2_col1\" class=\"data row2 col1\" >1.91%</td>\n",
       "            </tr>\n",
       "    </tbody></table>"
      ],
      "text/plain": [
       "<pandas.io.formats.style.Styler at 0x18b2fee9ec8>"
      ]
     },
     "execution_count": 27,
     "metadata": {},
     "output_type": "execute_result"
    }
   ],
   "source": [
    "## Gender Demographics\n",
    "\n",
    "### create new dataframe stratified by gender\n",
    "\n",
    "gender_strat_data = purchase_data.groupby(\"Gender\")\n",
    "\n",
    "### create dataframe inclusive of analysis steps\n",
    "gender_total_df = pd.DataFrame({\n",
    "                            \n",
    "    \"Total Count\" : gender_strat_data[\"SN\"].nunique(), \n",
    "    \"Percentage of Players\" : gender_strat_data[\"SN\"].nunique()/sum(gender_strat_data[\"SN\"].nunique())})\n",
    "\n",
    "gender_total_df_sorted = gender_total_df.sort_values(\"Percentage of Players\", ascending = False)\n",
    "\n",
    "###Display Percentage and Count of Players by Gender, including formatting\n",
    "\n",
    "gender_total_df_sorted.style.set_caption(\"Gender Demograpics\"\n",
    "                            ).format({\"Percentage of Players\": \"{:,.2%}\"}\n",
    "                            ).set_table_styles(styles)"
   ]
  },
  {
   "cell_type": "markdown",
   "metadata": {},
   "source": [
    "---\n",
    "\n",
    "Purchasing Analysis (Gender)\n",
    "------------------------"
   ]
  },
  {
   "cell_type": "code",
   "execution_count": 26,
   "metadata": {},
   "outputs": [
    {
     "data": {
      "text/html": [
       "<style  type=\"text/css\" >\n",
       "    #T_a9fbb2fe_aac1_11ea_bc07_84a93e4c419e th {\n",
       "          font-size: 14px;\n",
       "          text-align: Left;\n",
       "          font-weight: bold;\n",
       "          background-color: #CFCFCF;\n",
       "    }    #T_a9fbb2fe_aac1_11ea_bc07_84a93e4c419e td {\n",
       "          font-size: 13px;\n",
       "          text-align: Left;\n",
       "    }    #T_a9fbb2fe_aac1_11ea_bc07_84a93e4c419e caption {\n",
       "          font-size: 15px;\n",
       "          text-align: center;\n",
       "          font-weight: bold;\n",
       "    }</style><table id=\"T_a9fbb2fe_aac1_11ea_bc07_84a93e4c419e\" ><caption>Purchasing Analysis by Gender</caption><thead>    <tr>        <th class=\"blank level0\" ></th>        <th class=\"col_heading level0 col0\" >Purchase Count</th>        <th class=\"col_heading level0 col1\" >Average Purchase Price</th>        <th class=\"col_heading level0 col2\" >Total Purchase Value</th>        <th class=\"col_heading level0 col3\" >Avg Total Purchase per Person</th>    </tr>    <tr>        <th class=\"index_name level0\" >Gender</th>        <th class=\"blank\" ></th>        <th class=\"blank\" ></th>        <th class=\"blank\" ></th>        <th class=\"blank\" ></th>    </tr></thead><tbody>\n",
       "                <tr>\n",
       "                        <th id=\"T_a9fbb2fe_aac1_11ea_bc07_84a93e4c419elevel0_row0\" class=\"row_heading level0 row0\" >Other / Non-Disclosed</th>\n",
       "                        <td id=\"T_a9fbb2fe_aac1_11ea_bc07_84a93e4c419erow0_col0\" class=\"data row0 col0\" >15</td>\n",
       "                        <td id=\"T_a9fbb2fe_aac1_11ea_bc07_84a93e4c419erow0_col1\" class=\"data row0 col1\" >$3.35</td>\n",
       "                        <td id=\"T_a9fbb2fe_aac1_11ea_bc07_84a93e4c419erow0_col2\" class=\"data row0 col2\" >$50.19</td>\n",
       "                        <td id=\"T_a9fbb2fe_aac1_11ea_bc07_84a93e4c419erow0_col3\" class=\"data row0 col3\" >$4.56</td>\n",
       "            </tr>\n",
       "            <tr>\n",
       "                        <th id=\"T_a9fbb2fe_aac1_11ea_bc07_84a93e4c419elevel0_row1\" class=\"row_heading level0 row1\" >Female</th>\n",
       "                        <td id=\"T_a9fbb2fe_aac1_11ea_bc07_84a93e4c419erow1_col0\" class=\"data row1 col0\" >113</td>\n",
       "                        <td id=\"T_a9fbb2fe_aac1_11ea_bc07_84a93e4c419erow1_col1\" class=\"data row1 col1\" >$3.20</td>\n",
       "                        <td id=\"T_a9fbb2fe_aac1_11ea_bc07_84a93e4c419erow1_col2\" class=\"data row1 col2\" >$361.94</td>\n",
       "                        <td id=\"T_a9fbb2fe_aac1_11ea_bc07_84a93e4c419erow1_col3\" class=\"data row1 col3\" >$4.47</td>\n",
       "            </tr>\n",
       "            <tr>\n",
       "                        <th id=\"T_a9fbb2fe_aac1_11ea_bc07_84a93e4c419elevel0_row2\" class=\"row_heading level0 row2\" >Male</th>\n",
       "                        <td id=\"T_a9fbb2fe_aac1_11ea_bc07_84a93e4c419erow2_col0\" class=\"data row2 col0\" >652</td>\n",
       "                        <td id=\"T_a9fbb2fe_aac1_11ea_bc07_84a93e4c419erow2_col1\" class=\"data row2 col1\" >$3.02</td>\n",
       "                        <td id=\"T_a9fbb2fe_aac1_11ea_bc07_84a93e4c419erow2_col2\" class=\"data row2 col2\" >$1,967.64</td>\n",
       "                        <td id=\"T_a9fbb2fe_aac1_11ea_bc07_84a93e4c419erow2_col3\" class=\"data row2 col3\" >$4.07</td>\n",
       "            </tr>\n",
       "    </tbody></table>"
      ],
      "text/plain": [
       "<pandas.io.formats.style.Styler at 0x18b2ffeddc8>"
      ]
     },
     "execution_count": 26,
     "metadata": {},
     "output_type": "execute_result"
    }
   ],
   "source": [
    "## Purchasing Analysis(Gender)\n",
    "\n",
    "### create dataframe inclusive of analysis steps\n",
    "\n",
    "gender_analysis = pd.DataFrame({\n",
    "    \n",
    "    \"Purchase Count\" : gender_strat_data[\"Item Name\"].count(), \n",
    "    \"Average Purchase Price\" : gender_strat_data[\"Price\"].mean(),\n",
    "    \"Total Purchase Value\" : gender_strat_data[\"Price\"].sum(),\n",
    "    \"Avg Total Purchase per Person\" : total_purchase_gender/gender_strat_data[\"SN\"].nunique()})\n",
    "\n",
    "### sort by avg purchase total\n",
    "gender_analysis_sorted = gender_analysis.sort_values(\n",
    "                                               \"Avg Total Purchase per Person\", ascending = False)\n",
    "\n",
    "### Display Analysis, including formatting\n",
    "\n",
    "gender_analysis_sorted.style.format({\n",
    "                             \"Average Purchase Price\" : \"${:,.2f}\", \n",
    "                              \"Total Purchase Value\" : \"${:,.2f}\", \n",
    "                              \"Avg Total Purchase per Person\" : \"${:,.2f}\"}\n",
    "                            ).set_caption(\"Purchasing Analysis by Gender\"\n",
    "                            ).set_table_styles(styles)"
   ]
  },
  {
   "cell_type": "markdown",
   "metadata": {},
   "source": [
    "---\n",
    "\n",
    "Age Demographics\n",
    "------------------------"
   ]
  },
  {
   "cell_type": "code",
   "execution_count": 46,
   "metadata": {},
   "outputs": [
    {
     "data": {
      "text/html": [
       "<style  type=\"text/css\" >\n",
       "    #T_d5b1c4c6_aac2_11ea_9181_84a93e4c419e th {\n",
       "          font-size: 14px;\n",
       "          text-align: Left;\n",
       "          font-weight: bold;\n",
       "          background-color: #CFCFCF;\n",
       "    }    #T_d5b1c4c6_aac2_11ea_9181_84a93e4c419e td {\n",
       "          font-size: 13px;\n",
       "          text-align: Left;\n",
       "    }    #T_d5b1c4c6_aac2_11ea_9181_84a93e4c419e caption {\n",
       "          font-size: 15px;\n",
       "          text-align: center;\n",
       "          font-weight: bold;\n",
       "    }</style><table id=\"T_d5b1c4c6_aac2_11ea_9181_84a93e4c419e\" ><caption>Age Demographics</caption><thead>    <tr>        <th class=\"blank level0\" ></th>        <th class=\"col_heading level0 col0\" >Total Count</th>        <th class=\"col_heading level0 col1\" >Percentage of Players</th>    </tr>    <tr>        <th class=\"index_name level0\" >Age Group</th>        <th class=\"blank\" ></th>        <th class=\"blank\" ></th>    </tr></thead><tbody>\n",
       "                <tr>\n",
       "                        <th id=\"T_d5b1c4c6_aac2_11ea_9181_84a93e4c419elevel0_row0\" class=\"row_heading level0 row0\" ><10</th>\n",
       "                        <td id=\"T_d5b1c4c6_aac2_11ea_9181_84a93e4c419erow0_col0\" class=\"data row0 col0\" >17</td>\n",
       "                        <td id=\"T_d5b1c4c6_aac2_11ea_9181_84a93e4c419erow0_col1\" class=\"data row0 col1\" >2.95%</td>\n",
       "            </tr>\n",
       "            <tr>\n",
       "                        <th id=\"T_d5b1c4c6_aac2_11ea_9181_84a93e4c419elevel0_row1\" class=\"row_heading level0 row1\" >10-14</th>\n",
       "                        <td id=\"T_d5b1c4c6_aac2_11ea_9181_84a93e4c419erow1_col0\" class=\"data row1 col0\" >22</td>\n",
       "                        <td id=\"T_d5b1c4c6_aac2_11ea_9181_84a93e4c419erow1_col1\" class=\"data row1 col1\" >3.82%</td>\n",
       "            </tr>\n",
       "            <tr>\n",
       "                        <th id=\"T_d5b1c4c6_aac2_11ea_9181_84a93e4c419elevel0_row2\" class=\"row_heading level0 row2\" >15-19</th>\n",
       "                        <td id=\"T_d5b1c4c6_aac2_11ea_9181_84a93e4c419erow2_col0\" class=\"data row2 col0\" >107</td>\n",
       "                        <td id=\"T_d5b1c4c6_aac2_11ea_9181_84a93e4c419erow2_col1\" class=\"data row2 col1\" >18.58%</td>\n",
       "            </tr>\n",
       "            <tr>\n",
       "                        <th id=\"T_d5b1c4c6_aac2_11ea_9181_84a93e4c419elevel0_row3\" class=\"row_heading level0 row3\" >20-24</th>\n",
       "                        <td id=\"T_d5b1c4c6_aac2_11ea_9181_84a93e4c419erow3_col0\" class=\"data row3 col0\" >258</td>\n",
       "                        <td id=\"T_d5b1c4c6_aac2_11ea_9181_84a93e4c419erow3_col1\" class=\"data row3 col1\" >44.79%</td>\n",
       "            </tr>\n",
       "            <tr>\n",
       "                        <th id=\"T_d5b1c4c6_aac2_11ea_9181_84a93e4c419elevel0_row4\" class=\"row_heading level0 row4\" >25-29</th>\n",
       "                        <td id=\"T_d5b1c4c6_aac2_11ea_9181_84a93e4c419erow4_col0\" class=\"data row4 col0\" >77</td>\n",
       "                        <td id=\"T_d5b1c4c6_aac2_11ea_9181_84a93e4c419erow4_col1\" class=\"data row4 col1\" >13.37%</td>\n",
       "            </tr>\n",
       "            <tr>\n",
       "                        <th id=\"T_d5b1c4c6_aac2_11ea_9181_84a93e4c419elevel0_row5\" class=\"row_heading level0 row5\" >30-34</th>\n",
       "                        <td id=\"T_d5b1c4c6_aac2_11ea_9181_84a93e4c419erow5_col0\" class=\"data row5 col0\" >52</td>\n",
       "                        <td id=\"T_d5b1c4c6_aac2_11ea_9181_84a93e4c419erow5_col1\" class=\"data row5 col1\" >9.03%</td>\n",
       "            </tr>\n",
       "            <tr>\n",
       "                        <th id=\"T_d5b1c4c6_aac2_11ea_9181_84a93e4c419elevel0_row6\" class=\"row_heading level0 row6\" >35-39</th>\n",
       "                        <td id=\"T_d5b1c4c6_aac2_11ea_9181_84a93e4c419erow6_col0\" class=\"data row6 col0\" >31</td>\n",
       "                        <td id=\"T_d5b1c4c6_aac2_11ea_9181_84a93e4c419erow6_col1\" class=\"data row6 col1\" >5.38%</td>\n",
       "            </tr>\n",
       "            <tr>\n",
       "                        <th id=\"T_d5b1c4c6_aac2_11ea_9181_84a93e4c419elevel0_row7\" class=\"row_heading level0 row7\" >40+</th>\n",
       "                        <td id=\"T_d5b1c4c6_aac2_11ea_9181_84a93e4c419erow7_col0\" class=\"data row7 col0\" >12</td>\n",
       "                        <td id=\"T_d5b1c4c6_aac2_11ea_9181_84a93e4c419erow7_col1\" class=\"data row7 col1\" >2.08%</td>\n",
       "            </tr>\n",
       "    </tbody></table>"
      ],
      "text/plain": [
       "<pandas.io.formats.style.Styler at 0x18b30176988>"
      ]
     },
     "execution_count": 46,
     "metadata": {},
     "output_type": "execute_result"
    }
   ],
   "source": [
    "## Age Demographics\n",
    "\n",
    "#create and implement age bins\n",
    "\n",
    "age_bins = [0, 9, 14, 19, 24, 29, 34, 39, 100]\n",
    "age_labels = [\"<10\", \"10-14\", \"15-19\", \"20-24\", \"25-29\", \"30-34\", \"35-39\", \"40+\"]\n",
    "\n",
    "age_df = purchase_data\n",
    "\n",
    "age_df[\"Age Group\"] = pd.cut(age_df[\"Age\"], age_bins, labels=age_labels, include_lowest=True)\n",
    "\n",
    "age_strat_data = age_df.groupby(\"Age Group\")\n",
    "\n",
    "### determine for percentage by gender\n",
    "\n",
    "age_percent = age_strat_data[\"SN\"].nunique()/sum(age_strat_data[\"SN\"].nunique())\n",
    "\n",
    "### insert findings into dataframe\n",
    "age_total_df = pd.DataFrame({\n",
    "    \n",
    "    \"Total Count\" : age_strat_data[\"SN\"].nunique(), \n",
    "    \"Percentage of Players\" : age_percent})\n",
    "\n",
    "###Display Percentage and Count of Players by age, including formatting\n",
    "age_total_df.style.set_caption(\"Age Demographics\"\n",
    "                 ).format ({\"Percentage of Players\" : \"{:,.2%}\"}\n",
    "                 ).set_table_styles(styles)"
   ]
  },
  {
   "cell_type": "markdown",
   "metadata": {},
   "source": [
    "---\n",
    "\n",
    "Purchasing Analysis (Age)\n",
    "------------------------"
   ]
  },
  {
   "cell_type": "code",
   "execution_count": 50,
   "metadata": {},
   "outputs": [
    {
     "data": {
      "text/html": [
       "<style  type=\"text/css\" >\n",
       "    #T_2b89800a_aac3_11ea_86d6_84a93e4c419e th {\n",
       "          font-size: 14px;\n",
       "          text-align: Left;\n",
       "          font-weight: bold;\n",
       "          background-color: #CFCFCF;\n",
       "    }    #T_2b89800a_aac3_11ea_86d6_84a93e4c419e td {\n",
       "          font-size: 13px;\n",
       "          text-align: Left;\n",
       "    }    #T_2b89800a_aac3_11ea_86d6_84a93e4c419e caption {\n",
       "          font-size: 15px;\n",
       "          text-align: center;\n",
       "          font-weight: bold;\n",
       "    }</style><table id=\"T_2b89800a_aac3_11ea_86d6_84a93e4c419e\" ><caption>Purchasing Analysis by Age Group</caption><thead>    <tr>        <th class=\"blank level0\" ></th>        <th class=\"col_heading level0 col0\" >Purchase Count</th>        <th class=\"col_heading level0 col1\" >Average Purchase Price</th>        <th class=\"col_heading level0 col2\" >Total Purchase Value</th>        <th class=\"col_heading level0 col3\" >Avg Total Purchase per Person</th>    </tr>    <tr>        <th class=\"index_name level0\" >Age Group</th>        <th class=\"blank\" ></th>        <th class=\"blank\" ></th>        <th class=\"blank\" ></th>        <th class=\"blank\" ></th>    </tr></thead><tbody>\n",
       "                <tr>\n",
       "                        <th id=\"T_2b89800a_aac3_11ea_86d6_84a93e4c419elevel0_row0\" class=\"row_heading level0 row0\" ><10</th>\n",
       "                        <td id=\"T_2b89800a_aac3_11ea_86d6_84a93e4c419erow0_col0\" class=\"data row0 col0\" >23</td>\n",
       "                        <td id=\"T_2b89800a_aac3_11ea_86d6_84a93e4c419erow0_col1\" class=\"data row0 col1\" >$3.35</td>\n",
       "                        <td id=\"T_2b89800a_aac3_11ea_86d6_84a93e4c419erow0_col2\" class=\"data row0 col2\" >$77.13</td>\n",
       "                        <td id=\"T_2b89800a_aac3_11ea_86d6_84a93e4c419erow0_col3\" class=\"data row0 col3\" >$4.54</td>\n",
       "            </tr>\n",
       "            <tr>\n",
       "                        <th id=\"T_2b89800a_aac3_11ea_86d6_84a93e4c419elevel0_row1\" class=\"row_heading level0 row1\" >10-14</th>\n",
       "                        <td id=\"T_2b89800a_aac3_11ea_86d6_84a93e4c419erow1_col0\" class=\"data row1 col0\" >28</td>\n",
       "                        <td id=\"T_2b89800a_aac3_11ea_86d6_84a93e4c419erow1_col1\" class=\"data row1 col1\" >$2.96</td>\n",
       "                        <td id=\"T_2b89800a_aac3_11ea_86d6_84a93e4c419erow1_col2\" class=\"data row1 col2\" >$82.78</td>\n",
       "                        <td id=\"T_2b89800a_aac3_11ea_86d6_84a93e4c419erow1_col3\" class=\"data row1 col3\" >$3.76</td>\n",
       "            </tr>\n",
       "            <tr>\n",
       "                        <th id=\"T_2b89800a_aac3_11ea_86d6_84a93e4c419elevel0_row2\" class=\"row_heading level0 row2\" >15-19</th>\n",
       "                        <td id=\"T_2b89800a_aac3_11ea_86d6_84a93e4c419erow2_col0\" class=\"data row2 col0\" >136</td>\n",
       "                        <td id=\"T_2b89800a_aac3_11ea_86d6_84a93e4c419erow2_col1\" class=\"data row2 col1\" >$3.04</td>\n",
       "                        <td id=\"T_2b89800a_aac3_11ea_86d6_84a93e4c419erow2_col2\" class=\"data row2 col2\" >$412.89</td>\n",
       "                        <td id=\"T_2b89800a_aac3_11ea_86d6_84a93e4c419erow2_col3\" class=\"data row2 col3\" >$3.86</td>\n",
       "            </tr>\n",
       "            <tr>\n",
       "                        <th id=\"T_2b89800a_aac3_11ea_86d6_84a93e4c419elevel0_row3\" class=\"row_heading level0 row3\" >20-24</th>\n",
       "                        <td id=\"T_2b89800a_aac3_11ea_86d6_84a93e4c419erow3_col0\" class=\"data row3 col0\" >365</td>\n",
       "                        <td id=\"T_2b89800a_aac3_11ea_86d6_84a93e4c419erow3_col1\" class=\"data row3 col1\" >$3.05</td>\n",
       "                        <td id=\"T_2b89800a_aac3_11ea_86d6_84a93e4c419erow3_col2\" class=\"data row3 col2\" >$1,114.06</td>\n",
       "                        <td id=\"T_2b89800a_aac3_11ea_86d6_84a93e4c419erow3_col3\" class=\"data row3 col3\" >$4.32</td>\n",
       "            </tr>\n",
       "            <tr>\n",
       "                        <th id=\"T_2b89800a_aac3_11ea_86d6_84a93e4c419elevel0_row4\" class=\"row_heading level0 row4\" >25-29</th>\n",
       "                        <td id=\"T_2b89800a_aac3_11ea_86d6_84a93e4c419erow4_col0\" class=\"data row4 col0\" >101</td>\n",
       "                        <td id=\"T_2b89800a_aac3_11ea_86d6_84a93e4c419erow4_col1\" class=\"data row4 col1\" >$2.90</td>\n",
       "                        <td id=\"T_2b89800a_aac3_11ea_86d6_84a93e4c419erow4_col2\" class=\"data row4 col2\" >$293.00</td>\n",
       "                        <td id=\"T_2b89800a_aac3_11ea_86d6_84a93e4c419erow4_col3\" class=\"data row4 col3\" >$3.81</td>\n",
       "            </tr>\n",
       "            <tr>\n",
       "                        <th id=\"T_2b89800a_aac3_11ea_86d6_84a93e4c419elevel0_row5\" class=\"row_heading level0 row5\" >30-34</th>\n",
       "                        <td id=\"T_2b89800a_aac3_11ea_86d6_84a93e4c419erow5_col0\" class=\"data row5 col0\" >73</td>\n",
       "                        <td id=\"T_2b89800a_aac3_11ea_86d6_84a93e4c419erow5_col1\" class=\"data row5 col1\" >$2.93</td>\n",
       "                        <td id=\"T_2b89800a_aac3_11ea_86d6_84a93e4c419erow5_col2\" class=\"data row5 col2\" >$214.00</td>\n",
       "                        <td id=\"T_2b89800a_aac3_11ea_86d6_84a93e4c419erow5_col3\" class=\"data row5 col3\" >$4.12</td>\n",
       "            </tr>\n",
       "            <tr>\n",
       "                        <th id=\"T_2b89800a_aac3_11ea_86d6_84a93e4c419elevel0_row6\" class=\"row_heading level0 row6\" >35-39</th>\n",
       "                        <td id=\"T_2b89800a_aac3_11ea_86d6_84a93e4c419erow6_col0\" class=\"data row6 col0\" >41</td>\n",
       "                        <td id=\"T_2b89800a_aac3_11ea_86d6_84a93e4c419erow6_col1\" class=\"data row6 col1\" >$3.60</td>\n",
       "                        <td id=\"T_2b89800a_aac3_11ea_86d6_84a93e4c419erow6_col2\" class=\"data row6 col2\" >$147.67</td>\n",
       "                        <td id=\"T_2b89800a_aac3_11ea_86d6_84a93e4c419erow6_col3\" class=\"data row6 col3\" >$4.76</td>\n",
       "            </tr>\n",
       "            <tr>\n",
       "                        <th id=\"T_2b89800a_aac3_11ea_86d6_84a93e4c419elevel0_row7\" class=\"row_heading level0 row7\" >40+</th>\n",
       "                        <td id=\"T_2b89800a_aac3_11ea_86d6_84a93e4c419erow7_col0\" class=\"data row7 col0\" >13</td>\n",
       "                        <td id=\"T_2b89800a_aac3_11ea_86d6_84a93e4c419erow7_col1\" class=\"data row7 col1\" >$2.94</td>\n",
       "                        <td id=\"T_2b89800a_aac3_11ea_86d6_84a93e4c419erow7_col2\" class=\"data row7 col2\" >$38.24</td>\n",
       "                        <td id=\"T_2b89800a_aac3_11ea_86d6_84a93e4c419erow7_col3\" class=\"data row7 col3\" >$3.19</td>\n",
       "            </tr>\n",
       "    </tbody></table>"
      ],
      "text/plain": [
       "<pandas.io.formats.style.Styler at 0x18b30191488>"
      ]
     },
     "execution_count": 50,
     "metadata": {},
     "output_type": "execute_result"
    }
   ],
   "source": [
    "## Purchasing Analysis(Age)\n",
    "\n",
    "### Insert output into dataframe, inclusive of analysis steps\n",
    "age_analysis = pd.DataFrame({\n",
    "    \n",
    "    \"Purchase Count\" : age_strat_data[\"Item Name\"].count(), \n",
    "    \"Average Purchase Price\" : age_strat_data[\"Price\"].mean(),\n",
    "    \"Total Purchase Value\" : age_strat_data[\"Price\"].sum(),\n",
    "    \"Avg Total Purchase per Person\" : total_purchase_age/age_strat_data[\"SN\"].nunique()})\n",
    "\n",
    "### Display Gender Analysis, including formatting\n",
    "age_analysis.style.set_caption(\n",
    "                            \"Purchasing Analysis by Age Group\"\n",
    "                    ).format({\"Average Purchase Price\" : \"${:,.2f}\", \n",
    "                              \"Total Purchase Value\" : \"${:,.2f}\", \n",
    "                              \"Avg Total Purchase per Person\" : \"${:,.2f}\"}\n",
    "                    ).set_table_styles(styles)"
   ]
  },
  {
   "cell_type": "markdown",
   "metadata": {},
   "source": [
    "---\n",
    "\n",
    "Top Spenders\n",
    "------------------------"
   ]
  },
  {
   "cell_type": "code",
   "execution_count": 56,
   "metadata": {},
   "outputs": [
    {
     "data": {
      "text/html": [
       "<style  type=\"text/css\" >\n",
       "    #T_8ae52454_aac3_11ea_aabc_84a93e4c419e th {\n",
       "          font-size: 14px;\n",
       "          text-align: Left;\n",
       "          font-weight: bold;\n",
       "          background-color: #CFCFCF;\n",
       "    }    #T_8ae52454_aac3_11ea_aabc_84a93e4c419e td {\n",
       "          font-size: 13px;\n",
       "          text-align: Left;\n",
       "    }    #T_8ae52454_aac3_11ea_aabc_84a93e4c419e caption {\n",
       "          font-size: 15px;\n",
       "          text-align: center;\n",
       "          font-weight: bold;\n",
       "    }</style><table id=\"T_8ae52454_aac3_11ea_aabc_84a93e4c419e\" ><caption>Top Five Players by Total Purchase Value</caption><thead>    <tr>        <th class=\"blank level0\" ></th>        <th class=\"col_heading level0 col0\" >Purchase Count</th>        <th class=\"col_heading level0 col1\" >Average Purchase Price</th>        <th class=\"col_heading level0 col2\" >Total Purchase Value</th>    </tr>    <tr>        <th class=\"index_name level0\" >SN</th>        <th class=\"blank\" ></th>        <th class=\"blank\" ></th>        <th class=\"blank\" ></th>    </tr></thead><tbody>\n",
       "                <tr>\n",
       "                        <th id=\"T_8ae52454_aac3_11ea_aabc_84a93e4c419elevel0_row0\" class=\"row_heading level0 row0\" >Lisosia93</th>\n",
       "                        <td id=\"T_8ae52454_aac3_11ea_aabc_84a93e4c419erow0_col0\" class=\"data row0 col0\" >5</td>\n",
       "                        <td id=\"T_8ae52454_aac3_11ea_aabc_84a93e4c419erow0_col1\" class=\"data row0 col1\" >$3.79</td>\n",
       "                        <td id=\"T_8ae52454_aac3_11ea_aabc_84a93e4c419erow0_col2\" class=\"data row0 col2\" >$18.96</td>\n",
       "            </tr>\n",
       "            <tr>\n",
       "                        <th id=\"T_8ae52454_aac3_11ea_aabc_84a93e4c419elevel0_row1\" class=\"row_heading level0 row1\" >Idastidru52</th>\n",
       "                        <td id=\"T_8ae52454_aac3_11ea_aabc_84a93e4c419erow1_col0\" class=\"data row1 col0\" >4</td>\n",
       "                        <td id=\"T_8ae52454_aac3_11ea_aabc_84a93e4c419erow1_col1\" class=\"data row1 col1\" >$3.86</td>\n",
       "                        <td id=\"T_8ae52454_aac3_11ea_aabc_84a93e4c419erow1_col2\" class=\"data row1 col2\" >$15.45</td>\n",
       "            </tr>\n",
       "            <tr>\n",
       "                        <th id=\"T_8ae52454_aac3_11ea_aabc_84a93e4c419elevel0_row2\" class=\"row_heading level0 row2\" >Chamjask73</th>\n",
       "                        <td id=\"T_8ae52454_aac3_11ea_aabc_84a93e4c419erow2_col0\" class=\"data row2 col0\" >3</td>\n",
       "                        <td id=\"T_8ae52454_aac3_11ea_aabc_84a93e4c419erow2_col1\" class=\"data row2 col1\" >$4.61</td>\n",
       "                        <td id=\"T_8ae52454_aac3_11ea_aabc_84a93e4c419erow2_col2\" class=\"data row2 col2\" >$13.83</td>\n",
       "            </tr>\n",
       "            <tr>\n",
       "                        <th id=\"T_8ae52454_aac3_11ea_aabc_84a93e4c419elevel0_row3\" class=\"row_heading level0 row3\" >Iral74</th>\n",
       "                        <td id=\"T_8ae52454_aac3_11ea_aabc_84a93e4c419erow3_col0\" class=\"data row3 col0\" >4</td>\n",
       "                        <td id=\"T_8ae52454_aac3_11ea_aabc_84a93e4c419erow3_col1\" class=\"data row3 col1\" >$3.40</td>\n",
       "                        <td id=\"T_8ae52454_aac3_11ea_aabc_84a93e4c419erow3_col2\" class=\"data row3 col2\" >$13.62</td>\n",
       "            </tr>\n",
       "            <tr>\n",
       "                        <th id=\"T_8ae52454_aac3_11ea_aabc_84a93e4c419elevel0_row4\" class=\"row_heading level0 row4\" >Iskadarya95</th>\n",
       "                        <td id=\"T_8ae52454_aac3_11ea_aabc_84a93e4c419erow4_col0\" class=\"data row4 col0\" >3</td>\n",
       "                        <td id=\"T_8ae52454_aac3_11ea_aabc_84a93e4c419erow4_col1\" class=\"data row4 col1\" >$4.37</td>\n",
       "                        <td id=\"T_8ae52454_aac3_11ea_aabc_84a93e4c419erow4_col2\" class=\"data row4 col2\" >$13.10</td>\n",
       "            </tr>\n",
       "    </tbody></table>"
      ],
      "text/plain": [
       "<pandas.io.formats.style.Styler at 0x18b301acdc8>"
      ]
     },
     "execution_count": 56,
     "metadata": {},
     "output_type": "execute_result"
    }
   ],
   "source": [
    "## Top Spenders\n",
    "\n",
    "### create new dataframe stratified by SN\n",
    "\n",
    "SN_strat_data = purchase_data.groupby(\"SN\")\n",
    "\n",
    "### Create dataframe inclusive of analysis steps\n",
    "\n",
    "SN_analysis = pd.DataFrame({\"Purchase Count\" : SN_strat_data[\"Item Name\"].count(), \n",
    "                            \"Average Purchase Price\" : SN_strat_data[\"Price\"].mean(),\n",
    "                            \"Total Purchase Value\" : SN_strat_data[\"Price\"].sum()})\n",
    "### sort       \n",
    "SN_analysis_sorted = SN_analysis.sort_values(\"Total Purchase Value\", ascending = False)\n",
    "\n",
    "### format output\n",
    "\n",
    "top_spenders.head(5\n",
    "                 ).style.set_caption(\"Top Five Players by Total Purchase Value\"\n",
    "                       ).format({\n",
    "                            \"Average Purchase Price\" : \"${:,.2f}\", \n",
    "                            \"Total Purchase Value\" : \"${:,.2f}\"}\n",
    "                       ).set_table_styles(styles)\n"
   ]
  },
  {
   "cell_type": "markdown",
   "metadata": {},
   "source": [
    "---\n",
    "\n",
    "Most Popular Items\n",
    "------------------------"
   ]
  },
  {
   "cell_type": "code",
   "execution_count": 57,
   "metadata": {},
   "outputs": [
    {
     "data": {
      "text/html": [
       "<style  type=\"text/css\" >\n",
       "    #T_d1442854_aac3_11ea_8cd5_84a93e4c419e th {\n",
       "          font-size: 14px;\n",
       "          text-align: Left;\n",
       "          font-weight: bold;\n",
       "          background-color: #CFCFCF;\n",
       "    }    #T_d1442854_aac3_11ea_8cd5_84a93e4c419e td {\n",
       "          font-size: 13px;\n",
       "          text-align: Left;\n",
       "    }    #T_d1442854_aac3_11ea_8cd5_84a93e4c419e caption {\n",
       "          font-size: 15px;\n",
       "          text-align: center;\n",
       "          font-weight: bold;\n",
       "    }</style><table id=\"T_d1442854_aac3_11ea_8cd5_84a93e4c419e\" ><caption>Top 5 Items by Number Purchased</caption><thead>    <tr>        <th class=\"blank\" ></th>        <th class=\"blank level0\" ></th>        <th class=\"col_heading level0 col0\" >Purchase Count</th>        <th class=\"col_heading level0 col1\" >Item Price</th>        <th class=\"col_heading level0 col2\" >Total Purchase Value</th>    </tr>    <tr>        <th class=\"index_name level0\" >Item ID</th>        <th class=\"index_name level1\" >Item Name</th>        <th class=\"blank\" ></th>        <th class=\"blank\" ></th>        <th class=\"blank\" ></th>    </tr></thead><tbody>\n",
       "                <tr>\n",
       "                        <th id=\"T_d1442854_aac3_11ea_8cd5_84a93e4c419elevel0_row0\" class=\"row_heading level0 row0\" >92</th>\n",
       "                        <th id=\"T_d1442854_aac3_11ea_8cd5_84a93e4c419elevel1_row0\" class=\"row_heading level1 row0\" >Final Critic</th>\n",
       "                        <td id=\"T_d1442854_aac3_11ea_8cd5_84a93e4c419erow0_col0\" class=\"data row0 col0\" >13</td>\n",
       "                        <td id=\"T_d1442854_aac3_11ea_8cd5_84a93e4c419erow0_col1\" class=\"data row0 col1\" >$4.61</td>\n",
       "                        <td id=\"T_d1442854_aac3_11ea_8cd5_84a93e4c419erow0_col2\" class=\"data row0 col2\" >$59.99</td>\n",
       "            </tr>\n",
       "            <tr>\n",
       "                        <th id=\"T_d1442854_aac3_11ea_8cd5_84a93e4c419elevel0_row1\" class=\"row_heading level0 row1\" >178</th>\n",
       "                        <th id=\"T_d1442854_aac3_11ea_8cd5_84a93e4c419elevel1_row1\" class=\"row_heading level1 row1\" >Oathbreaker, Last Hope of the Breaking Storm</th>\n",
       "                        <td id=\"T_d1442854_aac3_11ea_8cd5_84a93e4c419erow1_col0\" class=\"data row1 col0\" >12</td>\n",
       "                        <td id=\"T_d1442854_aac3_11ea_8cd5_84a93e4c419erow1_col1\" class=\"data row1 col1\" >$4.23</td>\n",
       "                        <td id=\"T_d1442854_aac3_11ea_8cd5_84a93e4c419erow1_col2\" class=\"data row1 col2\" >$50.76</td>\n",
       "            </tr>\n",
       "            <tr>\n",
       "                        <th id=\"T_d1442854_aac3_11ea_8cd5_84a93e4c419elevel0_row2\" class=\"row_heading level0 row2\" >145</th>\n",
       "                        <th id=\"T_d1442854_aac3_11ea_8cd5_84a93e4c419elevel1_row2\" class=\"row_heading level1 row2\" >Fiery Glass Crusader</th>\n",
       "                        <td id=\"T_d1442854_aac3_11ea_8cd5_84a93e4c419erow2_col0\" class=\"data row2 col0\" >9</td>\n",
       "                        <td id=\"T_d1442854_aac3_11ea_8cd5_84a93e4c419erow2_col1\" class=\"data row2 col1\" >$4.58</td>\n",
       "                        <td id=\"T_d1442854_aac3_11ea_8cd5_84a93e4c419erow2_col2\" class=\"data row2 col2\" >$41.22</td>\n",
       "            </tr>\n",
       "            <tr>\n",
       "                        <th id=\"T_d1442854_aac3_11ea_8cd5_84a93e4c419elevel0_row3\" class=\"row_heading level0 row3\" >132</th>\n",
       "                        <th id=\"T_d1442854_aac3_11ea_8cd5_84a93e4c419elevel1_row3\" class=\"row_heading level1 row3\" >Persuasion</th>\n",
       "                        <td id=\"T_d1442854_aac3_11ea_8cd5_84a93e4c419erow3_col0\" class=\"data row3 col0\" >9</td>\n",
       "                        <td id=\"T_d1442854_aac3_11ea_8cd5_84a93e4c419erow3_col1\" class=\"data row3 col1\" >$3.22</td>\n",
       "                        <td id=\"T_d1442854_aac3_11ea_8cd5_84a93e4c419erow3_col2\" class=\"data row3 col2\" >$28.99</td>\n",
       "            </tr>\n",
       "            <tr>\n",
       "                        <th id=\"T_d1442854_aac3_11ea_8cd5_84a93e4c419elevel0_row4\" class=\"row_heading level0 row4\" >108</th>\n",
       "                        <th id=\"T_d1442854_aac3_11ea_8cd5_84a93e4c419elevel1_row4\" class=\"row_heading level1 row4\" >Extraction, Quickblade Of Trembling Hands</th>\n",
       "                        <td id=\"T_d1442854_aac3_11ea_8cd5_84a93e4c419erow4_col0\" class=\"data row4 col0\" >9</td>\n",
       "                        <td id=\"T_d1442854_aac3_11ea_8cd5_84a93e4c419erow4_col1\" class=\"data row4 col1\" >$3.53</td>\n",
       "                        <td id=\"T_d1442854_aac3_11ea_8cd5_84a93e4c419erow4_col2\" class=\"data row4 col2\" >$31.77</td>\n",
       "            </tr>\n",
       "    </tbody></table>"
      ],
      "text/plain": [
       "<pandas.io.formats.style.Styler at 0x18b301b5548>"
      ]
     },
     "execution_count": 57,
     "metadata": {},
     "output_type": "execute_result"
    }
   ],
   "source": [
    "## Most Popular Items\n",
    "\n",
    "### create new dataframe stratified by Item ID and Name\n",
    "\n",
    "item_strat_data = purchase_data.groupby([\"Item ID\", \"Item Name\"])\n",
    "\n",
    "### Create dataframe inclusive of analysis steps\n",
    "\n",
    "item_analysis = pd.DataFrame({\"Purchase Count\" : item_strat_data[\"Item Name\"].count(),\n",
    "                              \"Item Price\" : item_strat_data[\"Price\"].mean(),\n",
    "                              \"Total Purchase Value\" : item_strat_data[\"Price\"].sum()})\n",
    "### sort     \n",
    "\n",
    "item_analysis_sorted = item_analysis.sort_values(\"Purchase Count\", ascending = False)\n",
    "\n",
    "### format output\n",
    "\n",
    "item_analysis_formatted = item_analysis_sorted.head(5\n",
    "                                             ).style.set_caption(\"Top 5 Items by Number Purchased\"\n",
    "                                                   ).format({\n",
    "                                                            \"Item Price\" : \"${:,.2f}\", \n",
    "                                                            \"Total Purchase Value\" : \"${:,.2f}\"}\n",
    "                                                   ).set_table_styles(styles)\n",
    "\n",
    "item_analysis_formatted"
   ]
  },
  {
   "cell_type": "markdown",
   "metadata": {},
   "source": [
    "---\n",
    "\n",
    "Most Profitable Items\n",
    "------------------------"
   ]
  },
  {
   "cell_type": "code",
   "execution_count": 23,
   "metadata": {},
   "outputs": [
    {
     "data": {
      "text/html": [
       "<style  type=\"text/css\" >\n",
       "    #T_e8d0acae_aabf_11ea_a6ba_84a93e4c419e th {\n",
       "          font-size: 14px;\n",
       "          text-align: Left;\n",
       "          font-weight: bold;\n",
       "          background-color: #CFCFCF;\n",
       "    }    #T_e8d0acae_aabf_11ea_a6ba_84a93e4c419e td {\n",
       "          font-size: 13px;\n",
       "          text-align: Left;\n",
       "    }    #T_e8d0acae_aabf_11ea_a6ba_84a93e4c419e caption {\n",
       "          font-size: 15px;\n",
       "          text-align: center;\n",
       "          font-weight: bold;\n",
       "    }</style><table id=\"T_e8d0acae_aabf_11ea_a6ba_84a93e4c419e\" ><caption>Top 5 Items by Total Purchase Value</caption><thead>    <tr>        <th class=\"blank\" ></th>        <th class=\"blank level0\" ></th>        <th class=\"col_heading level0 col0\" >Purchase Count</th>        <th class=\"col_heading level0 col1\" >Item Price</th>        <th class=\"col_heading level0 col2\" >Total Purchase Value</th>    </tr>    <tr>        <th class=\"index_name level0\" >Item ID</th>        <th class=\"index_name level1\" >Item Name</th>        <th class=\"blank\" ></th>        <th class=\"blank\" ></th>        <th class=\"blank\" ></th>    </tr></thead><tbody>\n",
       "                <tr>\n",
       "                        <th id=\"T_e8d0acae_aabf_11ea_a6ba_84a93e4c419elevel0_row0\" class=\"row_heading level0 row0\" >92</th>\n",
       "                        <th id=\"T_e8d0acae_aabf_11ea_a6ba_84a93e4c419elevel1_row0\" class=\"row_heading level1 row0\" >Final Critic</th>\n",
       "                        <td id=\"T_e8d0acae_aabf_11ea_a6ba_84a93e4c419erow0_col0\" class=\"data row0 col0\" >13</td>\n",
       "                        <td id=\"T_e8d0acae_aabf_11ea_a6ba_84a93e4c419erow0_col1\" class=\"data row0 col1\" >$4.61</td>\n",
       "                        <td id=\"T_e8d0acae_aabf_11ea_a6ba_84a93e4c419erow0_col2\" class=\"data row0 col2\" >$59.99</td>\n",
       "            </tr>\n",
       "            <tr>\n",
       "                        <th id=\"T_e8d0acae_aabf_11ea_a6ba_84a93e4c419elevel0_row1\" class=\"row_heading level0 row1\" >178</th>\n",
       "                        <th id=\"T_e8d0acae_aabf_11ea_a6ba_84a93e4c419elevel1_row1\" class=\"row_heading level1 row1\" >Oathbreaker, Last Hope of the Breaking Storm</th>\n",
       "                        <td id=\"T_e8d0acae_aabf_11ea_a6ba_84a93e4c419erow1_col0\" class=\"data row1 col0\" >12</td>\n",
       "                        <td id=\"T_e8d0acae_aabf_11ea_a6ba_84a93e4c419erow1_col1\" class=\"data row1 col1\" >$4.23</td>\n",
       "                        <td id=\"T_e8d0acae_aabf_11ea_a6ba_84a93e4c419erow1_col2\" class=\"data row1 col2\" >$50.76</td>\n",
       "            </tr>\n",
       "            <tr>\n",
       "                        <th id=\"T_e8d0acae_aabf_11ea_a6ba_84a93e4c419elevel0_row2\" class=\"row_heading level0 row2\" >82</th>\n",
       "                        <th id=\"T_e8d0acae_aabf_11ea_a6ba_84a93e4c419elevel1_row2\" class=\"row_heading level1 row2\" >Nirvana</th>\n",
       "                        <td id=\"T_e8d0acae_aabf_11ea_a6ba_84a93e4c419erow2_col0\" class=\"data row2 col0\" >9</td>\n",
       "                        <td id=\"T_e8d0acae_aabf_11ea_a6ba_84a93e4c419erow2_col1\" class=\"data row2 col1\" >$4.90</td>\n",
       "                        <td id=\"T_e8d0acae_aabf_11ea_a6ba_84a93e4c419erow2_col2\" class=\"data row2 col2\" >$44.10</td>\n",
       "            </tr>\n",
       "            <tr>\n",
       "                        <th id=\"T_e8d0acae_aabf_11ea_a6ba_84a93e4c419elevel0_row3\" class=\"row_heading level0 row3\" >145</th>\n",
       "                        <th id=\"T_e8d0acae_aabf_11ea_a6ba_84a93e4c419elevel1_row3\" class=\"row_heading level1 row3\" >Fiery Glass Crusader</th>\n",
       "                        <td id=\"T_e8d0acae_aabf_11ea_a6ba_84a93e4c419erow3_col0\" class=\"data row3 col0\" >9</td>\n",
       "                        <td id=\"T_e8d0acae_aabf_11ea_a6ba_84a93e4c419erow3_col1\" class=\"data row3 col1\" >$4.58</td>\n",
       "                        <td id=\"T_e8d0acae_aabf_11ea_a6ba_84a93e4c419erow3_col2\" class=\"data row3 col2\" >$41.22</td>\n",
       "            </tr>\n",
       "            <tr>\n",
       "                        <th id=\"T_e8d0acae_aabf_11ea_a6ba_84a93e4c419elevel0_row4\" class=\"row_heading level0 row4\" >103</th>\n",
       "                        <th id=\"T_e8d0acae_aabf_11ea_a6ba_84a93e4c419elevel1_row4\" class=\"row_heading level1 row4\" >Singed Scalpel</th>\n",
       "                        <td id=\"T_e8d0acae_aabf_11ea_a6ba_84a93e4c419erow4_col0\" class=\"data row4 col0\" >8</td>\n",
       "                        <td id=\"T_e8d0acae_aabf_11ea_a6ba_84a93e4c419erow4_col1\" class=\"data row4 col1\" >$4.35</td>\n",
       "                        <td id=\"T_e8d0acae_aabf_11ea_a6ba_84a93e4c419erow4_col2\" class=\"data row4 col2\" >$34.80</td>\n",
       "            </tr>\n",
       "    </tbody></table>"
      ],
      "text/plain": [
       "<pandas.io.formats.style.Styler at 0x18b2ffee708>"
      ]
     },
     "execution_count": 23,
     "metadata": {},
     "output_type": "execute_result"
    }
   ],
   "source": [
    "### sort     \n",
    "\n",
    "item_analysis_sorted_by_total = item_analysis.sort_values(\"Total Purchase Value\", ascending = False)\n",
    "\n",
    "### format output\n",
    "\n",
    "item_analysis_formatted_sorted_by_total = item_analysis_sorted_by_total.head(5\n",
    "                                                                      ).style.set_caption(\"Top 5 Items by Total Purchase Value\"\n",
    "                                                                            ).format({\n",
    "                                                                                      \"Item Price\" : \"${:,.2f}\", \n",
    "                                                                                      \"Total Purchase Value\" : \"${:,.2f}\"}\n",
    "                                                                      ).set_table_styles(styles)\n",
    "item_analysis_formatted_sorted_by_total"
   ]
  }
 ],
 "metadata": {
  "kernelspec": {
   "display_name": "Python 3",
   "language": "python",
   "name": "python3"
  },
  "language_info": {
   "codemirror_mode": {
    "name": "ipython",
    "version": 3
   },
   "file_extension": ".py",
   "mimetype": "text/x-python",
   "name": "python",
   "nbconvert_exporter": "python",
   "pygments_lexer": "ipython3",
   "version": "3.7.6"
  }
 },
 "nbformat": 4,
 "nbformat_minor": 4
}
